{
 "cells": [
  {
   "cell_type": "code",
   "execution_count": 2,
   "metadata": {},
   "outputs": [
    {
     "name": "stdout",
     "output_type": "stream",
     "text": [
      "Collecting tensorflowNote: you may need to restart the kernel to use updated packages.\n"
     ]
    },
    {
     "name": "stderr",
     "output_type": "stream",
     "text": [
      "\n",
      "[notice] A new release of pip is available: 23.2.1 -> 23.3.1\n",
      "[notice] To update, run: python.exe -m pip install --upgrade pip\n"
     ]
    },
    {
     "name": "stdout",
     "output_type": "stream",
     "text": [
      "\n",
      "  Obtaining dependency information for tensorflow from https://files.pythonhosted.org/packages/93/21/9b035a4f823d6aee2917c75415be9a95861ff3d73a0a65e48edbf210cec1/tensorflow-2.15.0-cp311-cp311-win_amd64.whl.metadata\n",
      "  Downloading tensorflow-2.15.0-cp311-cp311-win_amd64.whl.metadata (3.6 kB)\n",
      "Collecting tensorflow-intel==2.15.0 (from tensorflow)\n",
      "  Obtaining dependency information for tensorflow-intel==2.15.0 from https://files.pythonhosted.org/packages/4c/48/1a5a15517f18eaa4ff8d598b1c000300b20c1bb0e624539d702117a0c369/tensorflow_intel-2.15.0-cp311-cp311-win_amd64.whl.metadata\n",
      "  Downloading tensorflow_intel-2.15.0-cp311-cp311-win_amd64.whl.metadata (5.1 kB)\n",
      "Collecting absl-py>=1.0.0 (from tensorflow-intel==2.15.0->tensorflow)\n",
      "  Obtaining dependency information for absl-py>=1.0.0 from https://files.pythonhosted.org/packages/01/e4/dc0a1dcc4e74e08d7abedab278c795eef54a224363bb18f5692f416d834f/absl_py-2.0.0-py3-none-any.whl.metadata\n",
      "  Downloading absl_py-2.0.0-py3-none-any.whl.metadata (2.3 kB)\n",
      "Collecting astunparse>=1.6.0 (from tensorflow-intel==2.15.0->tensorflow)\n",
      "  Downloading astunparse-1.6.3-py2.py3-none-any.whl (12 kB)\n",
      "Collecting flatbuffers>=23.5.26 (from tensorflow-intel==2.15.0->tensorflow)\n",
      "  Obtaining dependency information for flatbuffers>=23.5.26 from https://files.pythonhosted.org/packages/6f/12/d5c79ee252793ffe845d58a913197bfa02ae9a0b5c9bc3dc4b58d477b9e7/flatbuffers-23.5.26-py2.py3-none-any.whl.metadata\n",
      "  Downloading flatbuffers-23.5.26-py2.py3-none-any.whl.metadata (850 bytes)\n",
      "Collecting gast!=0.5.0,!=0.5.1,!=0.5.2,>=0.2.1 (from tensorflow-intel==2.15.0->tensorflow)\n",
      "  Downloading gast-0.5.4-py3-none-any.whl (19 kB)\n",
      "Collecting google-pasta>=0.1.1 (from tensorflow-intel==2.15.0->tensorflow)\n",
      "  Downloading google_pasta-0.2.0-py3-none-any.whl (57 kB)\n",
      "     ---------------------------------------- 0.0/57.5 kB ? eta -:--:--\n",
      "     ---------------------------------------- 57.5/57.5 kB 1.5 MB/s eta 0:00:00\n",
      "Collecting h5py>=2.9.0 (from tensorflow-intel==2.15.0->tensorflow)\n",
      "  Obtaining dependency information for h5py>=2.9.0 from https://files.pythonhosted.org/packages/b6/35/ed21094eb4d8acf31ccc7666a4d8701c1ce38f8d1fa3c7036f24416f6337/h5py-3.10.0-cp311-cp311-win_amd64.whl.metadata\n",
      "  Downloading h5py-3.10.0-cp311-cp311-win_amd64.whl.metadata (2.5 kB)\n",
      "Collecting libclang>=13.0.0 (from tensorflow-intel==2.15.0->tensorflow)\n",
      "  Obtaining dependency information for libclang>=13.0.0 from https://files.pythonhosted.org/packages/02/8c/dc970bc00867fe290e8c8a7befa1635af716a9ebdfe3fb9dce0ca4b522ce/libclang-16.0.6-py2.py3-none-win_amd64.whl.metadata\n",
      "  Downloading libclang-16.0.6-py2.py3-none-win_amd64.whl.metadata (5.3 kB)\n",
      "Collecting ml-dtypes~=0.2.0 (from tensorflow-intel==2.15.0->tensorflow)\n",
      "  Obtaining dependency information for ml-dtypes~=0.2.0 from https://files.pythonhosted.org/packages/08/89/c727fde1a3d12586e0b8c01abf53754707d76beaa9987640e70807d4545f/ml_dtypes-0.2.0-cp311-cp311-win_amd64.whl.metadata\n",
      "  Downloading ml_dtypes-0.2.0-cp311-cp311-win_amd64.whl.metadata (20 kB)\n",
      "Requirement already satisfied: numpy<2.0.0,>=1.23.5 in c:\\users\\josvaldes\\appdata\\local\\programs\\python\\python311\\lib\\site-packages (from tensorflow-intel==2.15.0->tensorflow) (1.24.2)\n",
      "Collecting opt-einsum>=2.3.2 (from tensorflow-intel==2.15.0->tensorflow)\n",
      "  Downloading opt_einsum-3.3.0-py3-none-any.whl (65 kB)\n",
      "     ---------------------------------------- 0.0/65.5 kB ? eta -:--:--\n",
      "     ---------------------------------------- 65.5/65.5 kB ? eta 0:00:00\n",
      "Requirement already satisfied: packaging in c:\\users\\josvaldes\\appdata\\local\\programs\\python\\python311\\lib\\site-packages (from tensorflow-intel==2.15.0->tensorflow) (23.0)\n",
      "Collecting protobuf!=4.21.0,!=4.21.1,!=4.21.2,!=4.21.3,!=4.21.4,!=4.21.5,<5.0.0dev,>=3.20.3 (from tensorflow-intel==2.15.0->tensorflow)\n",
      "  Obtaining dependency information for protobuf!=4.21.0,!=4.21.1,!=4.21.2,!=4.21.3,!=4.21.4,!=4.21.5,<5.0.0dev,>=3.20.3 from https://files.pythonhosted.org/packages/fe/6b/7f177e8d6fe4caa14f4065433af9f879d4fab84f0d17dcba7b407f6bd808/protobuf-4.25.1-cp310-abi3-win_amd64.whl.metadata\n",
      "  Downloading protobuf-4.25.1-cp310-abi3-win_amd64.whl.metadata (541 bytes)\n",
      "Requirement already satisfied: setuptools in c:\\users\\josvaldes\\appdata\\local\\programs\\python\\python311\\lib\\site-packages (from tensorflow-intel==2.15.0->tensorflow) (68.1.2)\n",
      "Requirement already satisfied: six>=1.12.0 in c:\\users\\josvaldes\\appdata\\local\\programs\\python\\python311\\lib\\site-packages (from tensorflow-intel==2.15.0->tensorflow) (1.16.0)\n",
      "Collecting termcolor>=1.1.0 (from tensorflow-intel==2.15.0->tensorflow)\n",
      "  Downloading termcolor-2.3.0-py3-none-any.whl (6.9 kB)\n",
      "Requirement already satisfied: typing-extensions>=3.6.6 in c:\\users\\josvaldes\\appdata\\local\\programs\\python\\python311\\lib\\site-packages (from tensorflow-intel==2.15.0->tensorflow) (4.7.1)\n",
      "Collecting wrapt<1.15,>=1.11.0 (from tensorflow-intel==2.15.0->tensorflow)\n",
      "  Obtaining dependency information for wrapt<1.15,>=1.11.0 from https://files.pythonhosted.org/packages/ba/7e/14113996bc6ee68eb987773b4139c87afd3ceff60e27e37648aa5eb2798a/wrapt-1.14.1-cp311-cp311-win_amd64.whl.metadata\n",
      "  Downloading wrapt-1.14.1-cp311-cp311-win_amd64.whl.metadata (6.9 kB)\n",
      "Collecting tensorflow-io-gcs-filesystem>=0.23.1 (from tensorflow-intel==2.15.0->tensorflow)\n",
      "  Downloading tensorflow_io_gcs_filesystem-0.31.0-cp311-cp311-win_amd64.whl (1.5 MB)\n",
      "     ---------------------------------------- 0.0/1.5 MB ? eta -:--:--\n",
      "     ----------- ---------------------------- 0.4/1.5 MB 8.5 MB/s eta 0:00:01\n",
      "     ------------------------------- -------- 1.2/1.5 MB 12.4 MB/s eta 0:00:01\n",
      "     ---------------------------------------- 1.5/1.5 MB 13.4 MB/s eta 0:00:00\n",
      "Collecting grpcio<2.0,>=1.24.3 (from tensorflow-intel==2.15.0->tensorflow)\n",
      "  Obtaining dependency information for grpcio<2.0,>=1.24.3 from https://files.pythonhosted.org/packages/bc/e5/f656b17fe1ccda1e2a4fe20298b8bcf7c804561c90ee763e39efc1c3772f/grpcio-1.59.3-cp311-cp311-win_amd64.whl.metadata\n",
      "  Downloading grpcio-1.59.3-cp311-cp311-win_amd64.whl.metadata (4.2 kB)\n",
      "Collecting tensorboard<2.16,>=2.15 (from tensorflow-intel==2.15.0->tensorflow)\n",
      "  Obtaining dependency information for tensorboard<2.16,>=2.15 from https://files.pythonhosted.org/packages/6e/0c/1059a6682cf2cc1fcc0d5327837b5672fe4f5574255fa5430d0a8ceb75e9/tensorboard-2.15.1-py3-none-any.whl.metadata\n",
      "  Downloading tensorboard-2.15.1-py3-none-any.whl.metadata (1.7 kB)\n",
      "Collecting tensorflow-estimator<2.16,>=2.15.0 (from tensorflow-intel==2.15.0->tensorflow)\n",
      "  Obtaining dependency information for tensorflow-estimator<2.16,>=2.15.0 from https://files.pythonhosted.org/packages/b6/c8/2f823c8958d5342eafc6dd3e922f0cc4fcf8c2e0460284cc462dae3b60a0/tensorflow_estimator-2.15.0-py2.py3-none-any.whl.metadata\n",
      "  Downloading tensorflow_estimator-2.15.0-py2.py3-none-any.whl.metadata (1.3 kB)\n",
      "Collecting keras<2.16,>=2.15.0 (from tensorflow-intel==2.15.0->tensorflow)\n",
      "  Obtaining dependency information for keras<2.16,>=2.15.0 from https://files.pythonhosted.org/packages/fc/a7/0d4490de967a67f68a538cc9cdb259bff971c4b5787f7765dc7c8f118f71/keras-2.15.0-py3-none-any.whl.metadata\n",
      "  Downloading keras-2.15.0-py3-none-any.whl.metadata (2.4 kB)\n",
      "Requirement already satisfied: wheel<1.0,>=0.23.0 in c:\\users\\josvaldes\\appdata\\local\\programs\\python\\python311\\lib\\site-packages (from astunparse>=1.6.0->tensorflow-intel==2.15.0->tensorflow) (0.41.1)\n",
      "Collecting google-auth<3,>=1.6.3 (from tensorboard<2.16,>=2.15->tensorflow-intel==2.15.0->tensorflow)\n",
      "  Obtaining dependency information for google-auth<3,>=1.6.3 from https://files.pythonhosted.org/packages/86/a7/75911c13a242735d5aeaca6a272da380335ff4ba5f26d6b2ae20ff682d13/google_auth-2.23.4-py2.py3-none-any.whl.metadata\n",
      "  Downloading google_auth-2.23.4-py2.py3-none-any.whl.metadata (4.7 kB)\n",
      "Collecting google-auth-oauthlib<2,>=0.5 (from tensorboard<2.16,>=2.15->tensorflow-intel==2.15.0->tensorflow)\n",
      "  Obtaining dependency information for google-auth-oauthlib<2,>=0.5 from https://files.pythonhosted.org/packages/ce/33/a907b4b67245647746dde8d61e1643ef5d210c88e090d491efd89eff9f95/google_auth_oauthlib-1.1.0-py2.py3-none-any.whl.metadata\n",
      "  Downloading google_auth_oauthlib-1.1.0-py2.py3-none-any.whl.metadata (2.7 kB)\n",
      "Collecting markdown>=2.6.8 (from tensorboard<2.16,>=2.15->tensorflow-intel==2.15.0->tensorflow)\n",
      "  Obtaining dependency information for markdown>=2.6.8 from https://files.pythonhosted.org/packages/70/58/2c5a654173937d9f540a4971c569b44dcd55e5424a484d954cdaeebcf79c/Markdown-3.5.1-py3-none-any.whl.metadata\n",
      "  Downloading Markdown-3.5.1-py3-none-any.whl.metadata (7.1 kB)\n",
      "Collecting protobuf!=4.21.0,!=4.21.1,!=4.21.2,!=4.21.3,!=4.21.4,!=4.21.5,<5.0.0dev,>=3.20.3 (from tensorflow-intel==2.15.0->tensorflow)\n",
      "  Obtaining dependency information for protobuf!=4.21.0,!=4.21.1,!=4.21.2,!=4.21.3,!=4.21.4,!=4.21.5,<5.0.0dev,>=3.20.3 from https://files.pythonhosted.org/packages/80/70/dc63d340d27b8ff22022d7dd14b8d6d68b479a003eacdc4507150a286d9a/protobuf-4.23.4-cp310-abi3-win_amd64.whl.metadata\n",
      "  Downloading protobuf-4.23.4-cp310-abi3-win_amd64.whl.metadata (540 bytes)\n",
      "Requirement already satisfied: requests<3,>=2.21.0 in c:\\users\\josvaldes\\appdata\\local\\programs\\python\\python311\\lib\\site-packages (from tensorboard<2.16,>=2.15->tensorflow-intel==2.15.0->tensorflow) (2.28.2)\n",
      "Collecting tensorboard-data-server<0.8.0,>=0.7.0 (from tensorboard<2.16,>=2.15->tensorflow-intel==2.15.0->tensorflow)\n",
      "  Obtaining dependency information for tensorboard-data-server<0.8.0,>=0.7.0 from https://files.pythonhosted.org/packages/7a/13/e503968fefabd4c6b2650af21e110aa8466fe21432cd7c43a84577a89438/tensorboard_data_server-0.7.2-py3-none-any.whl.metadata\n",
      "  Downloading tensorboard_data_server-0.7.2-py3-none-any.whl.metadata (1.1 kB)\n",
      "Collecting werkzeug>=1.0.1 (from tensorboard<2.16,>=2.15->tensorflow-intel==2.15.0->tensorflow)\n",
      "  Obtaining dependency information for werkzeug>=1.0.1 from https://files.pythonhosted.org/packages/c3/fc/254c3e9b5feb89ff5b9076a23218dafbc99c96ac5941e900b71206e6313b/werkzeug-3.0.1-py3-none-any.whl.metadata\n",
      "  Downloading werkzeug-3.0.1-py3-none-any.whl.metadata (4.1 kB)\n",
      "Collecting cachetools<6.0,>=2.0.0 (from google-auth<3,>=1.6.3->tensorboard<2.16,>=2.15->tensorflow-intel==2.15.0->tensorflow)\n",
      "  Obtaining dependency information for cachetools<6.0,>=2.0.0 from https://files.pythonhosted.org/packages/a2/91/2d843adb9fbd911e0da45fbf6f18ca89d07a087c3daa23e955584f90ebf4/cachetools-5.3.2-py3-none-any.whl.metadata\n",
      "  Downloading cachetools-5.3.2-py3-none-any.whl.metadata (5.2 kB)\n",
      "Collecting pyasn1-modules>=0.2.1 (from google-auth<3,>=1.6.3->tensorboard<2.16,>=2.15->tensorflow-intel==2.15.0->tensorflow)\n",
      "  Downloading pyasn1_modules-0.3.0-py2.py3-none-any.whl (181 kB)\n",
      "     ---------------------------------------- 0.0/181.3 kB ? eta -:--:--\n",
      "     ------------------------------------- 181.3/181.3 kB 10.7 MB/s eta 0:00:00\n",
      "Collecting rsa<5,>=3.1.4 (from google-auth<3,>=1.6.3->tensorboard<2.16,>=2.15->tensorflow-intel==2.15.0->tensorflow)\n",
      "  Downloading rsa-4.9-py3-none-any.whl (34 kB)\n",
      "Collecting requests-oauthlib>=0.7.0 (from google-auth-oauthlib<2,>=0.5->tensorboard<2.16,>=2.15->tensorflow-intel==2.15.0->tensorflow)\n",
      "  Downloading requests_oauthlib-1.3.1-py2.py3-none-any.whl (23 kB)\n",
      "Requirement already satisfied: charset-normalizer<4,>=2 in c:\\users\\josvaldes\\appdata\\local\\programs\\python\\python311\\lib\\site-packages (from requests<3,>=2.21.0->tensorboard<2.16,>=2.15->tensorflow-intel==2.15.0->tensorflow) (3.1.0)\n",
      "Requirement already satisfied: idna<4,>=2.5 in c:\\users\\josvaldes\\appdata\\local\\programs\\python\\python311\\lib\\site-packages (from requests<3,>=2.21.0->tensorboard<2.16,>=2.15->tensorflow-intel==2.15.0->tensorflow) (3.4)\n",
      "Requirement already satisfied: urllib3<1.27,>=1.21.1 in c:\\users\\josvaldes\\appdata\\local\\programs\\python\\python311\\lib\\site-packages (from requests<3,>=2.21.0->tensorboard<2.16,>=2.15->tensorflow-intel==2.15.0->tensorflow) (1.26.15)\n",
      "Requirement already satisfied: certifi>=2017.4.17 in c:\\users\\josvaldes\\appdata\\local\\programs\\python\\python311\\lib\\site-packages (from requests<3,>=2.21.0->tensorboard<2.16,>=2.15->tensorflow-intel==2.15.0->tensorflow) (2022.12.7)\n",
      "Requirement already satisfied: MarkupSafe>=2.1.1 in c:\\users\\josvaldes\\appdata\\local\\programs\\python\\python311\\lib\\site-packages (from werkzeug>=1.0.1->tensorboard<2.16,>=2.15->tensorflow-intel==2.15.0->tensorflow) (2.1.2)\n",
      "Collecting pyasn1<0.6.0,>=0.4.6 (from pyasn1-modules>=0.2.1->google-auth<3,>=1.6.3->tensorboard<2.16,>=2.15->tensorflow-intel==2.15.0->tensorflow)\n",
      "  Downloading pyasn1-0.5.0-py2.py3-none-any.whl (83 kB)\n",
      "     ---------------------------------------- 0.0/83.9 kB ? eta -:--:--\n",
      "     ---------------------------------------- 83.9/83.9 kB 4.9 MB/s eta 0:00:00\n",
      "Collecting oauthlib>=3.0.0 (from requests-oauthlib>=0.7.0->google-auth-oauthlib<2,>=0.5->tensorboard<2.16,>=2.15->tensorflow-intel==2.15.0->tensorflow)\n",
      "  Downloading oauthlib-3.2.2-py3-none-any.whl (151 kB)\n",
      "     ---------------------------------------- 0.0/151.7 kB ? eta -:--:--\n",
      "     -------------------------------------- 151.7/151.7 kB 8.8 MB/s eta 0:00:00\n",
      "Downloading tensorflow-2.15.0-cp311-cp311-win_amd64.whl (2.1 kB)\n",
      "Downloading tensorflow_intel-2.15.0-cp311-cp311-win_amd64.whl (300.9 MB)\n",
      "   ---------------------------------------- 0.0/300.9 MB ? eta -:--:--\n",
      "   ---------------------------------------- 1.7/300.9 MB 54.5 MB/s eta 0:00:06\n",
      "    --------------------------------------- 4.0/300.9 MB 50.8 MB/s eta 0:00:06\n",
      "    --------------------------------------- 6.9/300.9 MB 48.5 MB/s eta 0:00:07\n",
      "   - -------------------------------------- 9.6/300.9 MB 55.5 MB/s eta 0:00:06\n",
      "   - -------------------------------------- 11.9/300.9 MB 54.4 MB/s eta 0:00:06\n",
      "   - -------------------------------------- 14.3/300.9 MB 59.5 MB/s eta 0:00:05\n",
      "   -- ------------------------------------- 17.1/300.9 MB 59.5 MB/s eta 0:00:05\n",
      "   -- ------------------------------------- 19.1/300.9 MB 54.7 MB/s eta 0:00:06\n",
      "   -- ------------------------------------- 21.7/300.9 MB 50.4 MB/s eta 0:00:06\n",
      "   --- ------------------------------------ 24.6/300.9 MB 59.5 MB/s eta 0:00:05\n",
      "   --- ------------------------------------ 27.5/300.9 MB 59.5 MB/s eta 0:00:05\n",
      "   --- ------------------------------------ 29.1/300.9 MB 54.4 MB/s eta 0:00:05\n",
      "   ---- ----------------------------------- 32.2/300.9 MB 54.4 MB/s eta 0:00:05\n",
      "   ---- ----------------------------------- 34.7/300.9 MB 54.4 MB/s eta 0:00:05\n",
      "   ----- ---------------------------------- 37.7/300.9 MB 54.4 MB/s eta 0:00:05\n",
      "   ----- ---------------------------------- 40.6/300.9 MB 65.6 MB/s eta 0:00:04\n",
      "   ----- ---------------------------------- 43.6/300.9 MB 59.5 MB/s eta 0:00:05\n",
      "   ------ --------------------------------- 46.4/300.9 MB 65.6 MB/s eta 0:00:04\n",
      "   ------ --------------------------------- 48.7/300.9 MB 59.5 MB/s eta 0:00:05\n",
      "   ------ --------------------------------- 52.0/300.9 MB 59.5 MB/s eta 0:00:05\n",
      "   ------- -------------------------------- 54.9/300.9 MB 59.5 MB/s eta 0:00:05\n",
      "   ------- -------------------------------- 57.7/300.9 MB 59.5 MB/s eta 0:00:05\n",
      "   -------- ------------------------------- 60.5/300.9 MB 59.5 MB/s eta 0:00:05\n",
      "   -------- ------------------------------- 63.4/300.9 MB 59.8 MB/s eta 0:00:04\n",
      "   -------- ------------------------------- 66.2/300.9 MB 59.5 MB/s eta 0:00:04\n",
      "   --------- ------------------------------ 68.1/300.9 MB 59.5 MB/s eta 0:00:04\n",
      "   --------- ------------------------------ 70.7/300.9 MB 54.7 MB/s eta 0:00:05\n",
      "   --------- ------------------------------ 73.6/300.9 MB 54.4 MB/s eta 0:00:05\n",
      "   --------- ------------------------------ 75.0/300.9 MB 50.4 MB/s eta 0:00:05\n",
      "   ---------- ----------------------------- 76.4/300.9 MB 46.7 MB/s eta 0:00:05\n",
      "   ---------- ----------------------------- 76.5/300.9 MB 36.3 MB/s eta 0:00:07\n",
      "   ---------- ----------------------------- 79.6/300.9 MB 40.9 MB/s eta 0:00:06\n",
      "   ---------- ----------------------------- 79.7/300.9 MB 36.3 MB/s eta 0:00:07\n",
      "   ---------- ----------------------------- 82.2/300.9 MB 32.8 MB/s eta 0:00:07\n",
      "   ----------- ---------------------------- 83.3/300.9 MB 31.2 MB/s eta 0:00:07\n",
      "   ----------- ---------------------------- 83.3/300.9 MB 28.4 MB/s eta 0:00:08\n",
      "   ----------- ---------------------------- 83.7/300.9 MB 25.2 MB/s eta 0:00:09\n",
      "   ----------- ---------------------------- 87.1/300.9 MB 31.2 MB/s eta 0:00:07\n",
      "   ----------- ---------------------------- 87.8/300.9 MB 28.5 MB/s eta 0:00:08\n",
      "   ----------- ---------------------------- 88.7/300.9 MB 25.2 MB/s eta 0:00:09\n",
      "   ------------ --------------------------- 90.5/300.9 MB 27.3 MB/s eta 0:00:08\n",
      "   ------------ --------------------------- 92.1/300.9 MB 26.2 MB/s eta 0:00:08\n",
      "   ------------ --------------------------- 93.4/300.9 MB 27.3 MB/s eta 0:00:08\n",
      "   ------------ --------------------------- 94.4/300.9 MB 32.8 MB/s eta 0:00:07\n",
      "   ------------ --------------------------- 96.1/300.9 MB 28.4 MB/s eta 0:00:08\n",
      "   ------------ --------------------------- 96.9/300.9 MB 26.2 MB/s eta 0:00:08\n",
      "   ------------- -------------------------- 97.9/300.9 MB 24.2 MB/s eta 0:00:09\n",
      "   ------------- -------------------------- 98.8/300.9 MB 26.2 MB/s eta 0:00:08\n",
      "   ------------- -------------------------- 99.7/300.9 MB 25.2 MB/s eta 0:00:08\n",
      "   ------------- ------------------------- 100.7/300.9 MB 24.2 MB/s eta 0:00:09\n",
      "   ------------- ------------------------- 101.7/300.9 MB 22.6 MB/s eta 0:00:09\n",
      "   ------------- ------------------------- 102.7/300.9 MB 21.8 MB/s eta 0:00:10\n",
      "   ------------- ------------------------- 103.7/300.9 MB 21.8 MB/s eta 0:00:10\n",
      "   ------------- ------------------------- 104.7/300.9 MB 22.6 MB/s eta 0:00:09\n",
      "   ------------- ------------------------- 105.6/300.9 MB 20.5 MB/s eta 0:00:10\n",
      "   ------------- ------------------------- 106.6/300.9 MB 20.5 MB/s eta 0:00:10\n",
      "   ------------- ------------------------- 107.6/300.9 MB 21.1 MB/s eta 0:00:10\n",
      "   -------------- ------------------------ 108.6/300.9 MB 20.5 MB/s eta 0:00:10\n",
      "   -------------- ------------------------ 109.7/300.9 MB 21.1 MB/s eta 0:00:10\n",
      "   -------------- ------------------------ 110.6/300.9 MB 21.1 MB/s eta 0:00:10\n",
      "   -------------- ------------------------ 111.6/300.9 MB 21.1 MB/s eta 0:00:09\n",
      "   -------------- ------------------------ 112.6/300.9 MB 21.1 MB/s eta 0:00:09\n",
      "   -------------- ------------------------ 113.6/300.9 MB 21.8 MB/s eta 0:00:09\n",
      "   -------------- ------------------------ 114.7/300.9 MB 21.1 MB/s eta 0:00:09\n",
      "   --------------- ----------------------- 115.7/300.9 MB 21.8 MB/s eta 0:00:09\n",
      "   --------------- ----------------------- 116.7/300.9 MB 21.1 MB/s eta 0:00:09\n",
      "   --------------- ----------------------- 117.7/300.9 MB 21.1 MB/s eta 0:00:09\n",
      "   --------------- ----------------------- 118.7/300.9 MB 21.9 MB/s eta 0:00:09\n",
      "   --------------- ----------------------- 119.7/300.9 MB 21.8 MB/s eta 0:00:09\n",
      "   --------------- ----------------------- 120.8/300.9 MB 22.6 MB/s eta 0:00:08\n",
      "   --------------- ----------------------- 121.8/300.9 MB 21.8 MB/s eta 0:00:09\n",
      "   --------------- ----------------------- 122.8/300.9 MB 22.6 MB/s eta 0:00:08\n",
      "   ---------------- ---------------------- 123.9/300.9 MB 22.6 MB/s eta 0:00:08\n",
      "   ---------------- ---------------------- 124.9/300.9 MB 21.8 MB/s eta 0:00:09\n",
      "   ---------------- ---------------------- 125.9/300.9 MB 21.9 MB/s eta 0:00:09\n",
      "   ---------------- ---------------------- 127.0/300.9 MB 22.6 MB/s eta 0:00:08\n",
      "   ---------------- ---------------------- 128.0/300.9 MB 22.6 MB/s eta 0:00:08\n",
      "   ---------------- ---------------------- 129.0/300.9 MB 22.6 MB/s eta 0:00:08\n",
      "   ---------------- ---------------------- 130.0/300.9 MB 22.6 MB/s eta 0:00:08\n",
      "   ---------------- ---------------------- 131.1/300.9 MB 22.6 MB/s eta 0:00:08\n",
      "   ----------------- --------------------- 132.1/300.9 MB 22.6 MB/s eta 0:00:08\n",
      "   ----------------- --------------------- 133.2/300.9 MB 22.5 MB/s eta 0:00:08\n",
      "   ----------------- --------------------- 134.1/300.9 MB 21.9 MB/s eta 0:00:08\n",
      "   ----------------- --------------------- 135.2/300.9 MB 21.9 MB/s eta 0:00:08\n",
      "   ----------------- --------------------- 135.2/300.9 MB 21.9 MB/s eta 0:00:08\n",
      "   ----------------- --------------------- 135.2/300.9 MB 20.5 MB/s eta 0:00:09\n",
      "   ----------------- --------------------- 135.4/300.9 MB 17.7 MB/s eta 0:00:10\n",
      "   ----------------- --------------------- 135.4/300.9 MB 17.7 MB/s eta 0:00:10\n",
      "   ----------------- --------------------- 135.4/300.9 MB 16.0 MB/s eta 0:00:11\n",
      "   ----------------- --------------------- 135.6/300.9 MB 14.6 MB/s eta 0:00:12\n",
      "   ----------------- --------------------- 135.6/300.9 MB 14.6 MB/s eta 0:00:12\n",
      "   ----------------- --------------------- 135.6/300.9 MB 13.4 MB/s eta 0:00:13\n",
      "   ----------------- --------------------- 135.9/300.9 MB 12.1 MB/s eta 0:00:14\n",
      "   ----------------- --------------------- 136.4/300.9 MB 11.7 MB/s eta 0:00:15\n",
      "   ----------------- --------------------- 136.6/300.9 MB 11.7 MB/s eta 0:00:15\n",
      "   ----------------- --------------------- 136.6/300.9 MB 10.9 MB/s eta 0:00:16\n",
      "   ----------------- --------------------- 136.8/300.9 MB 10.4 MB/s eta 0:00:16\n",
      "   ----------------- --------------------- 136.8/300.9 MB 10.4 MB/s eta 0:00:16\n",
      "   ------------------ --------------------- 136.8/300.9 MB 9.6 MB/s eta 0:00:18\n",
      "   ------------------ --------------------- 137.0/300.9 MB 9.4 MB/s eta 0:00:18\n",
      "   ------------------ --------------------- 137.2/300.9 MB 9.1 MB/s eta 0:00:19\n",
      "   ------------------ --------------------- 137.3/300.9 MB 8.6 MB/s eta 0:00:20\n",
      "   ------------------ --------------------- 137.4/300.9 MB 8.3 MB/s eta 0:00:20\n",
      "   ------------------ --------------------- 137.4/300.9 MB 8.2 MB/s eta 0:00:20\n",
      "   ------------------ --------------------- 137.4/300.9 MB 7.8 MB/s eta 0:00:21\n",
      "   ------------------ --------------------- 137.6/300.9 MB 7.4 MB/s eta 0:00:22\n",
      "   ------------------ --------------------- 137.8/300.9 MB 7.4 MB/s eta 0:00:23\n",
      "   ------------------ --------------------- 137.8/300.9 MB 7.2 MB/s eta 0:00:23\n",
      "   ------------------ --------------------- 138.0/300.9 MB 6.8 MB/s eta 0:00:24\n",
      "   ------------------ --------------------- 138.0/300.9 MB 6.8 MB/s eta 0:00:24\n",
      "   ------------------ --------------------- 138.1/300.9 MB 6.5 MB/s eta 0:00:25\n",
      "   ------------------ --------------------- 138.2/300.9 MB 6.3 MB/s eta 0:00:26\n",
      "   ------------------ --------------------- 138.3/300.9 MB 6.2 MB/s eta 0:00:27\n",
      "   ------------------ --------------------- 138.3/300.9 MB 6.0 MB/s eta 0:00:28\n",
      "   ------------------ --------------------- 138.4/300.9 MB 5.8 MB/s eta 0:00:28\n",
      "   ------------------ --------------------- 138.5/300.9 MB 5.7 MB/s eta 0:00:29\n",
      "   ------------------ --------------------- 138.5/300.9 MB 5.7 MB/s eta 0:00:29\n",
      "   ------------------ --------------------- 138.5/300.9 MB 5.7 MB/s eta 0:00:29\n",
      "   ------------------ --------------------- 138.5/300.9 MB 5.7 MB/s eta 0:00:29\n",
      "   ------------------ --------------------- 138.5/300.9 MB 5.7 MB/s eta 0:00:29\n",
      "   ------------------ --------------------- 138.5/300.9 MB 5.7 MB/s eta 0:00:29\n",
      "   ------------------ --------------------- 138.6/300.9 MB 4.9 MB/s eta 0:00:33\n",
      "   ------------------ --------------------- 138.6/300.9 MB 4.9 MB/s eta 0:00:34\n",
      "   ------------------ --------------------- 138.6/300.9 MB 4.9 MB/s eta 0:00:34\n",
      "   ------------------ --------------------- 138.6/300.9 MB 4.9 MB/s eta 0:00:34\n",
      "   ------------------ --------------------- 138.6/300.9 MB 4.9 MB/s eta 0:00:34\n",
      "   ------------------ --------------------- 138.6/300.9 MB 4.9 MB/s eta 0:00:34\n",
      "   ------------------ --------------------- 138.6/300.9 MB 4.9 MB/s eta 0:00:34\n",
      "   ------------------ --------------------- 138.7/300.9 MB 4.3 MB/s eta 0:00:38\n",
      "   ------------------ --------------------- 138.7/300.9 MB 4.3 MB/s eta 0:00:38\n",
      "   ------------------ --------------------- 138.7/300.9 MB 4.3 MB/s eta 0:00:38\n",
      "   ------------------ --------------------- 138.7/300.9 MB 4.3 MB/s eta 0:00:38\n",
      "   ------------------ --------------------- 138.7/300.9 MB 4.3 MB/s eta 0:00:38\n",
      "   ------------------ --------------------- 138.7/300.9 MB 4.3 MB/s eta 0:00:38\n",
      "   ------------------ --------------------- 138.8/300.9 MB 3.8 MB/s eta 0:00:43\n",
      "   ------------------ --------------------- 138.8/300.9 MB 3.8 MB/s eta 0:00:43\n",
      "   ------------------ --------------------- 138.8/300.9 MB 3.8 MB/s eta 0:00:43\n",
      "   ------------------ --------------------- 138.8/300.9 MB 3.6 MB/s eta 0:00:45\n",
      "   ------------------ --------------------- 138.9/300.9 MB 3.6 MB/s eta 0:00:46\n",
      "   ------------------ --------------------- 138.9/300.9 MB 3.5 MB/s eta 0:00:47\n",
      "   ------------------ --------------------- 138.9/300.9 MB 3.5 MB/s eta 0:00:47\n",
      "   ------------------ --------------------- 138.9/300.9 MB 3.5 MB/s eta 0:00:47\n",
      "   ------------------ --------------------- 138.9/300.9 MB 3.5 MB/s eta 0:00:47\n",
      "   ------------------ --------------------- 138.9/300.9 MB 3.5 MB/s eta 0:00:47\n",
      "   ------------------ --------------------- 138.9/300.9 MB 3.5 MB/s eta 0:00:47\n",
      "   ------------------ --------------------- 138.9/300.9 MB 3.5 MB/s eta 0:00:47\n",
      "   ------------------ --------------------- 138.9/300.9 MB 3.2 MB/s eta 0:00:51\n",
      "   ------------------ --------------------- 139.0/300.9 MB 3.1 MB/s eta 0:00:52\n",
      "   ------------------ --------------------- 139.0/300.9 MB 3.1 MB/s eta 0:00:53\n",
      "   ------------------ --------------------- 139.0/300.9 MB 3.1 MB/s eta 0:00:53\n",
      "   ------------------ --------------------- 139.0/300.9 MB 3.1 MB/s eta 0:00:53\n",
      "   ------------------ --------------------- 139.0/300.9 MB 3.1 MB/s eta 0:00:53\n",
      "   ------------------ --------------------- 139.0/300.9 MB 3.1 MB/s eta 0:00:53\n",
      "   ------------------ --------------------- 139.0/300.9 MB 3.1 MB/s eta 0:00:53\n",
      "   ------------------ --------------------- 139.0/300.9 MB 2.8 MB/s eta 0:00:58\n",
      "   ------------------ --------------------- 139.0/300.9 MB 2.8 MB/s eta 0:00:58\n",
      "   ------------------ --------------------- 139.0/300.9 MB 2.8 MB/s eta 0:00:58\n",
      "   ------------------ --------------------- 139.1/300.9 MB 2.8 MB/s eta 0:00:59\n",
      "   ------------------ --------------------- 139.1/300.9 MB 2.7 MB/s eta 0:01:00\n",
      "   ------------------ --------------------- 139.1/300.9 MB 2.7 MB/s eta 0:01:01\n",
      "   ------------------ --------------------- 139.2/300.9 MB 2.6 MB/s eta 0:01:02\n",
      "   ------------------ --------------------- 139.2/300.9 MB 2.6 MB/s eta 0:01:03\n",
      "   ------------------ --------------------- 139.2/300.9 MB 2.6 MB/s eta 0:01:03\n",
      "   ------------------ --------------------- 139.3/300.9 MB 2.5 MB/s eta 0:01:04\n",
      "   ------------------ --------------------- 139.3/300.9 MB 2.5 MB/s eta 0:01:05\n",
      "   ------------------ --------------------- 139.4/300.9 MB 2.5 MB/s eta 0:01:05\n",
      "   ------------------ --------------------- 139.4/300.9 MB 2.5 MB/s eta 0:01:06\n",
      "   ------------------ --------------------- 139.5/300.9 MB 2.4 MB/s eta 0:01:07\n",
      "   ------------------ --------------------- 139.5/300.9 MB 2.4 MB/s eta 0:01:07\n",
      "   ------------------ --------------------- 139.6/300.9 MB 2.4 MB/s eta 0:01:08\n",
      "   ------------------ --------------------- 139.7/300.9 MB 2.4 MB/s eta 0:01:09\n",
      "   ------------------ --------------------- 139.7/300.9 MB 2.3 MB/s eta 0:01:09\n",
      "   ------------------ --------------------- 139.8/300.9 MB 2.3 MB/s eta 0:01:10\n",
      "   ------------------ --------------------- 139.8/300.9 MB 2.3 MB/s eta 0:01:11\n",
      "   ------------------ --------------------- 139.9/300.9 MB 2.3 MB/s eta 0:01:11\n",
      "   ------------------ --------------------- 140.0/300.9 MB 2.2 MB/s eta 0:01:12\n",
      "   ------------------ --------------------- 140.1/300.9 MB 2.2 MB/s eta 0:01:12\n",
      "   ------------------ --------------------- 140.2/300.9 MB 2.2 MB/s eta 0:01:13\n",
      "   ------------------ --------------------- 140.2/300.9 MB 2.2 MB/s eta 0:01:14\n",
      "   ------------------ --------------------- 140.3/300.9 MB 2.2 MB/s eta 0:01:15\n",
      "   ------------------ --------------------- 140.4/300.9 MB 2.2 MB/s eta 0:01:15\n",
      "   ------------------ --------------------- 140.5/300.9 MB 2.1 MB/s eta 0:01:15\n",
      "   ------------------ --------------------- 140.6/300.9 MB 2.1 MB/s eta 0:01:16\n",
      "   ------------------ --------------------- 140.7/300.9 MB 2.1 MB/s eta 0:01:17\n",
      "   ------------------ --------------------- 140.8/300.9 MB 2.1 MB/s eta 0:01:17\n",
      "   ------------------ --------------------- 140.9/300.9 MB 2.1 MB/s eta 0:01:18\n",
      "   ------------------ --------------------- 141.0/300.9 MB 2.0 MB/s eta 0:01:19\n",
      "   ------------------ --------------------- 141.1/300.9 MB 2.0 MB/s eta 0:01:19\n",
      "   ------------------ --------------------- 141.2/300.9 MB 2.0 MB/s eta 0:01:20\n",
      "   ------------------ --------------------- 141.3/300.9 MB 2.0 MB/s eta 0:01:20\n",
      "   ------------------ --------------------- 141.4/300.9 MB 2.0 MB/s eta 0:01:21\n",
      "   ------------------ --------------------- 141.6/300.9 MB 2.0 MB/s eta 0:01:22\n",
      "   ------------------ --------------------- 141.7/300.9 MB 1.9 MB/s eta 0:01:22\n",
      "   ------------------ --------------------- 141.8/300.9 MB 1.9 MB/s eta 0:01:23\n",
      "   ------------------ --------------------- 141.9/300.9 MB 1.9 MB/s eta 0:01:23\n",
      "   ------------------ --------------------- 142.1/300.9 MB 1.9 MB/s eta 0:01:24\n",
      "   ------------------ --------------------- 142.2/300.9 MB 1.9 MB/s eta 0:01:25\n",
      "   ------------------ --------------------- 142.3/300.9 MB 1.9 MB/s eta 0:01:25\n",
      "   ------------------ --------------------- 142.5/300.9 MB 1.9 MB/s eta 0:01:26\n",
      "   ------------------ --------------------- 142.6/300.9 MB 1.8 MB/s eta 0:01:26\n",
      "   ------------------ --------------------- 142.8/300.9 MB 1.8 MB/s eta 0:01:27\n",
      "   ------------------ --------------------- 142.9/300.9 MB 1.8 MB/s eta 0:01:27\n",
      "   ------------------- -------------------- 143.1/300.9 MB 1.8 MB/s eta 0:01:28\n",
      "   ------------------- -------------------- 143.2/300.9 MB 1.8 MB/s eta 0:01:28\n",
      "   ------------------- -------------------- 143.4/300.9 MB 1.8 MB/s eta 0:01:29\n",
      "   ------------------- -------------------- 143.5/300.9 MB 1.8 MB/s eta 0:01:29\n",
      "   ------------------- -------------------- 143.7/300.9 MB 1.8 MB/s eta 0:01:30\n",
      "   ------------------- -------------------- 143.9/300.9 MB 1.7 MB/s eta 0:01:30\n",
      "   ------------------- -------------------- 144.0/300.9 MB 1.7 MB/s eta 0:01:31\n",
      "   ------------------- -------------------- 144.2/300.9 MB 1.7 MB/s eta 0:01:31\n",
      "   ------------------- -------------------- 144.4/300.9 MB 1.7 MB/s eta 0:01:32\n",
      "   ------------------- -------------------- 144.5/300.9 MB 1.7 MB/s eta 0:01:32\n",
      "   ------------------- -------------------- 144.7/300.9 MB 1.7 MB/s eta 0:01:33\n",
      "   ------------------- -------------------- 144.9/300.9 MB 1.7 MB/s eta 0:01:33\n",
      "   ------------------- -------------------- 145.1/300.9 MB 1.7 MB/s eta 0:01:34\n",
      "   ------------------- -------------------- 145.3/300.9 MB 1.7 MB/s eta 0:01:34\n",
      "   ------------------- -------------------- 145.5/300.9 MB 1.7 MB/s eta 0:01:33\n",
      "   ------------------- -------------------- 145.7/300.9 MB 1.7 MB/s eta 0:01:32\n",
      "   ------------------- -------------------- 145.8/300.9 MB 1.7 MB/s eta 0:01:31\n",
      "   ------------------- -------------------- 146.0/300.9 MB 1.7 MB/s eta 0:01:30\n",
      "   ------------------- -------------------- 146.3/300.9 MB 1.7 MB/s eta 0:01:31\n",
      "   ------------------- -------------------- 146.4/300.9 MB 1.7 MB/s eta 0:01:31\n",
      "   ------------------- -------------------- 146.6/300.9 MB 1.7 MB/s eta 0:01:31\n",
      "   ------------------- -------------------- 146.8/300.9 MB 1.7 MB/s eta 0:01:31\n",
      "   ------------------- -------------------- 147.1/300.9 MB 1.7 MB/s eta 0:01:29\n",
      "   ------------------- -------------------- 147.3/300.9 MB 1.7 MB/s eta 0:01:29\n",
      "   ------------------- -------------------- 147.5/300.9 MB 1.8 MB/s eta 0:01:28\n",
      "   ------------------- -------------------- 147.7/300.9 MB 1.8 MB/s eta 0:01:26\n",
      "   ------------------- -------------------- 147.9/300.9 MB 1.8 MB/s eta 0:01:26\n",
      "   ------------------- -------------------- 148.2/300.9 MB 1.8 MB/s eta 0:01:25\n",
      "   ------------------- -------------------- 148.4/300.9 MB 1.8 MB/s eta 0:01:23\n",
      "   ------------------- -------------------- 148.6/300.9 MB 1.9 MB/s eta 0:01:22\n",
      "   ------------------- -------------------- 148.9/300.9 MB 2.0 MB/s eta 0:01:17\n",
      "   ------------------- -------------------- 149.1/300.9 MB 2.3 MB/s eta 0:01:06\n",
      "   ------------------- -------------------- 149.3/300.9 MB 2.9 MB/s eta 0:00:52\n",
      "   ------------------- -------------------- 149.6/300.9 MB 3.1 MB/s eta 0:00:49\n",
      "   ------------------- -------------------- 149.8/300.9 MB 3.3 MB/s eta 0:00:46\n",
      "   ------------------- -------------------- 150.1/300.9 MB 3.4 MB/s eta 0:00:44\n",
      "   ------------------- -------------------- 150.3/300.9 MB 3.6 MB/s eta 0:00:43\n",
      "   -------------------- ------------------- 150.6/300.9 MB 3.7 MB/s eta 0:00:41\n",
      "   -------------------- ------------------- 150.8/300.9 MB 3.8 MB/s eta 0:00:40\n",
      "   -------------------- ------------------- 151.1/300.9 MB 3.9 MB/s eta 0:00:39\n",
      "   -------------------- ------------------- 151.4/300.9 MB 4.0 MB/s eta 0:00:38\n",
      "   -------------------- ------------------- 151.6/300.9 MB 4.1 MB/s eta 0:00:37\n",
      "   -------------------- ------------------- 151.9/300.9 MB 4.2 MB/s eta 0:00:36\n",
      "   -------------------- ------------------- 152.2/300.9 MB 4.3 MB/s eta 0:00:35\n",
      "   -------------------- ------------------- 152.4/300.9 MB 4.4 MB/s eta 0:00:34\n",
      "   -------------------- ------------------- 152.7/300.9 MB 4.5 MB/s eta 0:00:34\n",
      "   -------------------- ------------------- 153.0/300.9 MB 4.5 MB/s eta 0:00:33\n",
      "   -------------------- ------------------- 153.2/300.9 MB 4.6 MB/s eta 0:00:32\n",
      "   -------------------- ------------------- 153.5/300.9 MB 4.7 MB/s eta 0:00:32\n",
      "   -------------------- ------------------- 153.8/300.9 MB 4.8 MB/s eta 0:00:31\n",
      "   -------------------- ------------------- 154.1/300.9 MB 4.9 MB/s eta 0:00:30\n",
      "   -------------------- ------------------- 154.4/300.9 MB 5.0 MB/s eta 0:00:30\n",
      "   -------------------- ------------------- 154.7/300.9 MB 5.1 MB/s eta 0:00:29\n",
      "   -------------------- ------------------- 155.0/300.9 MB 5.2 MB/s eta 0:00:29\n",
      "   -------------------- ------------------- 155.2/300.9 MB 5.2 MB/s eta 0:00:28\n",
      "   -------------------- ------------------- 155.5/300.9 MB 5.3 MB/s eta 0:00:28\n",
      "   -------------------- ------------------- 155.9/300.9 MB 5.4 MB/s eta 0:00:28\n",
      "   -------------------- ------------------- 156.1/300.9 MB 5.5 MB/s eta 0:00:27\n",
      "   -------------------- ------------------- 156.5/300.9 MB 5.5 MB/s eta 0:00:27\n",
      "   -------------------- ------------------- 156.8/300.9 MB 5.6 MB/s eta 0:00:26\n",
      "   -------------------- ------------------- 157.1/300.9 MB 5.7 MB/s eta 0:00:26\n",
      "   -------------------- ------------------- 157.4/300.9 MB 5.7 MB/s eta 0:00:25\n",
      "   -------------------- ------------------- 157.7/300.9 MB 5.8 MB/s eta 0:00:25\n",
      "   --------------------- ------------------ 158.1/300.9 MB 5.9 MB/s eta 0:00:25\n",
      "   --------------------- ------------------ 158.4/300.9 MB 6.0 MB/s eta 0:00:24\n",
      "   --------------------- ------------------ 158.7/300.9 MB 6.0 MB/s eta 0:00:24\n",
      "   --------------------- ------------------ 159.0/300.9 MB 6.1 MB/s eta 0:00:24\n",
      "   --------------------- ------------------ 159.4/300.9 MB 6.2 MB/s eta 0:00:23\n",
      "   --------------------- ------------------ 159.7/300.9 MB 6.3 MB/s eta 0:00:23\n",
      "   --------------------- ------------------ 160.0/300.9 MB 6.3 MB/s eta 0:00:23\n",
      "   --------------------- ------------------ 160.4/300.9 MB 6.4 MB/s eta 0:00:23\n",
      "   --------------------- ------------------ 160.7/300.9 MB 6.4 MB/s eta 0:00:22\n",
      "   --------------------- ------------------ 161.1/300.9 MB 6.5 MB/s eta 0:00:22\n",
      "   --------------------- ------------------ 161.4/300.9 MB 6.5 MB/s eta 0:00:22\n",
      "   --------------------- ------------------ 161.8/300.9 MB 6.7 MB/s eta 0:00:21\n",
      "   --------------------- ------------------ 162.1/300.9 MB 6.7 MB/s eta 0:00:21\n",
      "   --------------------- ------------------ 162.5/300.9 MB 6.8 MB/s eta 0:00:21\n",
      "   --------------------- ------------------ 162.8/300.9 MB 6.9 MB/s eta 0:00:21\n",
      "   --------------------- ------------------ 163.2/300.9 MB 7.0 MB/s eta 0:00:20\n",
      "   --------------------- ------------------ 163.5/300.9 MB 7.0 MB/s eta 0:00:20\n",
      "   --------------------- ------------------ 163.9/300.9 MB 7.0 MB/s eta 0:00:20\n",
      "   --------------------- ------------------ 164.3/300.9 MB 7.1 MB/s eta 0:00:20\n",
      "   --------------------- ------------------ 164.7/300.9 MB 7.2 MB/s eta 0:00:19\n",
      "   --------------------- ------------------ 165.0/300.9 MB 7.3 MB/s eta 0:00:19\n",
      "   --------------------- ------------------ 165.4/300.9 MB 7.4 MB/s eta 0:00:19\n",
      "   ---------------------- ----------------- 165.8/300.9 MB 7.4 MB/s eta 0:00:19\n",
      "   ---------------------- ----------------- 166.2/300.9 MB 7.4 MB/s eta 0:00:19\n",
      "   ---------------------- ----------------- 166.6/300.9 MB 7.5 MB/s eta 0:00:18\n",
      "   ---------------------- ----------------- 167.0/300.9 MB 7.6 MB/s eta 0:00:18\n",
      "   ---------------------- ----------------- 167.4/300.9 MB 7.6 MB/s eta 0:00:18\n",
      "   ---------------------- ----------------- 167.7/300.9 MB 7.7 MB/s eta 0:00:18\n",
      "   ---------------------- ----------------- 168.1/300.9 MB 7.7 MB/s eta 0:00:18\n",
      "   ---------------------- ----------------- 168.5/300.9 MB 7.8 MB/s eta 0:00:17\n",
      "   ---------------------- ----------------- 168.9/300.9 MB 7.9 MB/s eta 0:00:17\n",
      "   ---------------------- ----------------- 169.3/300.9 MB 7.9 MB/s eta 0:00:17\n",
      "   ---------------------- ----------------- 169.7/300.9 MB 8.0 MB/s eta 0:00:17\n",
      "   ---------------------- ----------------- 170.2/300.9 MB 8.1 MB/s eta 0:00:17\n",
      "   ---------------------- ----------------- 170.6/300.9 MB 8.1 MB/s eta 0:00:17\n",
      "   ---------------------- ----------------- 171.0/300.9 MB 8.2 MB/s eta 0:00:16\n",
      "   ---------------------- ----------------- 171.4/300.9 MB 8.2 MB/s eta 0:00:16\n",
      "   ---------------------- ----------------- 171.8/300.9 MB 8.3 MB/s eta 0:00:16\n",
      "   ---------------------- ----------------- 172.2/300.9 MB 8.4 MB/s eta 0:00:16\n",
      "   ---------------------- ----------------- 172.7/300.9 MB 8.4 MB/s eta 0:00:16\n",
      "   ----------------------- ---------------- 173.1/300.9 MB 8.5 MB/s eta 0:00:16\n",
      "   ----------------------- ---------------- 173.6/300.9 MB 8.6 MB/s eta 0:00:15\n",
      "   ----------------------- ---------------- 174.0/300.9 MB 8.6 MB/s eta 0:00:15\n",
      "   ----------------------- ---------------- 174.4/300.9 MB 8.7 MB/s eta 0:00:15\n",
      "   ----------------------- ---------------- 174.9/300.9 MB 8.7 MB/s eta 0:00:15\n",
      "   ----------------------- ---------------- 175.3/300.9 MB 8.8 MB/s eta 0:00:15\n",
      "   ----------------------- ---------------- 175.8/300.9 MB 8.8 MB/s eta 0:00:15\n",
      "   ----------------------- ---------------- 176.3/300.9 MB 9.0 MB/s eta 0:00:14\n",
      "   ----------------------- ---------------- 176.7/300.9 MB 9.1 MB/s eta 0:00:14\n",
      "   ----------------------- ---------------- 177.2/300.9 MB 9.1 MB/s eta 0:00:14\n",
      "   ----------------------- ---------------- 177.6/300.9 MB 9.1 MB/s eta 0:00:14\n",
      "   ----------------------- ---------------- 178.1/300.9 MB 9.2 MB/s eta 0:00:14\n",
      "   ----------------------- ---------------- 178.6/300.9 MB 9.4 MB/s eta 0:00:14\n",
      "   ----------------------- ---------------- 179.1/300.9 MB 9.4 MB/s eta 0:00:14\n",
      "   ----------------------- ---------------- 179.5/300.9 MB 9.4 MB/s eta 0:00:13\n",
      "   ----------------------- ---------------- 180.0/300.9 MB 9.5 MB/s eta 0:00:13\n",
      "   ----------------------- ---------------- 180.5/300.9 MB 9.6 MB/s eta 0:00:13\n",
      "   ------------------------ --------------- 180.9/300.9 MB 9.6 MB/s eta 0:00:13\n",
      "   ------------------------ --------------- 181.4/300.9 MB 9.6 MB/s eta 0:00:13\n",
      "   ------------------------ --------------- 181.9/300.9 MB 9.6 MB/s eta 0:00:13\n",
      "   ------------------------ --------------- 182.4/300.9 MB 9.9 MB/s eta 0:00:12\n",
      "   ------------------------ --------------- 182.8/300.9 MB 9.8 MB/s eta 0:00:13\n",
      "   ----------------------- --------------- 183.3/300.9 MB 10.1 MB/s eta 0:00:12\n",
      "   ------------------------ --------------- 183.8/300.9 MB 9.9 MB/s eta 0:00:12\n",
      "   ----------------------- --------------- 184.3/300.9 MB 10.1 MB/s eta 0:00:12\n",
      "   ----------------------- --------------- 184.8/300.9 MB 10.1 MB/s eta 0:00:12\n",
      "   ------------------------ -------------- 185.3/300.9 MB 10.2 MB/s eta 0:00:12\n",
      "   ------------------------ -------------- 185.8/300.9 MB 10.2 MB/s eta 0:00:12\n",
      "   ------------------------ -------------- 186.3/300.9 MB 10.4 MB/s eta 0:00:12\n",
      "   ------------------------ -------------- 186.8/300.9 MB 10.4 MB/s eta 0:00:11\n",
      "   ------------------------ -------------- 187.3/300.9 MB 10.4 MB/s eta 0:00:11\n",
      "   ------------------------ -------------- 187.8/300.9 MB 10.4 MB/s eta 0:00:11\n",
      "   ------------------------ -------------- 188.3/300.9 MB 10.6 MB/s eta 0:00:11\n",
      "   ------------------------ -------------- 188.8/300.9 MB 10.6 MB/s eta 0:00:11\n",
      "   ------------------------ -------------- 189.3/300.9 MB 10.6 MB/s eta 0:00:11\n",
      "   ------------------------ -------------- 189.9/300.9 MB 10.7 MB/s eta 0:00:11\n",
      "   ------------------------ -------------- 190.4/300.9 MB 10.7 MB/s eta 0:00:11\n",
      "   ------------------------ -------------- 190.8/300.9 MB 10.7 MB/s eta 0:00:11\n",
      "   ------------------------ -------------- 191.3/300.9 MB 10.7 MB/s eta 0:00:11\n",
      "   ------------------------ -------------- 191.8/300.9 MB 10.7 MB/s eta 0:00:11\n",
      "   ------------------------ -------------- 192.4/300.9 MB 10.7 MB/s eta 0:00:11\n",
      "   ------------------------- ------------- 192.9/300.9 MB 10.7 MB/s eta 0:00:11\n",
      "   ------------------------- ------------- 193.5/300.9 MB 10.9 MB/s eta 0:00:10\n",
      "   ------------------------- ------------- 194.0/300.9 MB 10.9 MB/s eta 0:00:10\n",
      "   ------------------------- ------------- 194.6/300.9 MB 11.1 MB/s eta 0:00:10\n",
      "   ------------------------- ------------- 195.1/300.9 MB 11.1 MB/s eta 0:00:10\n",
      "   ------------------------- ------------- 195.7/300.9 MB 11.1 MB/s eta 0:00:10\n",
      "   ------------------------- ------------- 196.2/300.9 MB 11.1 MB/s eta 0:00:10\n",
      "   ------------------------- ------------- 196.7/300.9 MB 11.3 MB/s eta 0:00:10\n",
      "   ------------------------- ------------- 197.3/300.9 MB 11.3 MB/s eta 0:00:10\n",
      "   ------------------------- ------------- 197.9/300.9 MB 11.3 MB/s eta 0:00:10\n",
      "   ------------------------- ------------- 198.5/300.9 MB 11.5 MB/s eta 0:00:09\n",
      "   ------------------------- ------------- 199.0/300.9 MB 11.5 MB/s eta 0:00:09\n",
      "   ------------------------- ------------- 199.6/300.9 MB 11.5 MB/s eta 0:00:09\n",
      "   ------------------------- ------------- 200.2/300.9 MB 11.7 MB/s eta 0:00:09\n",
      "   -------------------------- ------------ 200.8/300.9 MB 11.7 MB/s eta 0:00:09\n",
      "   -------------------------- ------------ 201.3/300.9 MB 11.7 MB/s eta 0:00:09\n",
      "   -------------------------- ------------ 201.9/300.9 MB 11.9 MB/s eta 0:00:09\n",
      "   -------------------------- ------------ 202.5/300.9 MB 11.9 MB/s eta 0:00:09\n",
      "   -------------------------- ------------ 202.9/300.9 MB 11.9 MB/s eta 0:00:09\n",
      "   -------------------------- ------------ 203.5/300.9 MB 11.9 MB/s eta 0:00:09\n",
      "   -------------------------- ------------ 204.1/300.9 MB 11.9 MB/s eta 0:00:09\n",
      "   -------------------------- ------------ 204.7/300.9 MB 12.1 MB/s eta 0:00:08\n",
      "   -------------------------- ------------ 205.4/300.9 MB 12.4 MB/s eta 0:00:08\n",
      "   -------------------------- ------------ 206.0/300.9 MB 12.4 MB/s eta 0:00:08\n",
      "   -------------------------- ------------ 206.7/300.9 MB 12.6 MB/s eta 0:00:08\n",
      "   -------------------------- ------------ 207.3/300.9 MB 12.6 MB/s eta 0:00:08\n",
      "   -------------------------- ------------ 207.9/300.9 MB 12.6 MB/s eta 0:00:08\n",
      "   --------------------------- ----------- 208.5/300.9 MB 12.8 MB/s eta 0:00:08\n",
      "   --------------------------- ----------- 209.2/300.9 MB 12.8 MB/s eta 0:00:08\n",
      "   --------------------------- ----------- 209.9/300.9 MB 13.1 MB/s eta 0:00:07\n",
      "   --------------------------- ----------- 210.6/300.9 MB 13.1 MB/s eta 0:00:07\n",
      "   --------------------------- ----------- 211.4/300.9 MB 13.4 MB/s eta 0:00:07\n",
      "   --------------------------- ----------- 212.1/300.9 MB 13.6 MB/s eta 0:00:07\n",
      "   --------------------------- ----------- 212.8/300.9 MB 13.9 MB/s eta 0:00:07\n",
      "   --------------------------- ----------- 213.5/300.9 MB 14.2 MB/s eta 0:00:07\n",
      "   --------------------------- ----------- 214.3/300.9 MB 14.6 MB/s eta 0:00:06\n",
      "   --------------------------- ----------- 215.1/300.9 MB 14.9 MB/s eta 0:00:06\n",
      "   --------------------------- ----------- 215.9/300.9 MB 14.9 MB/s eta 0:00:06\n",
      "   ---------------------------- ---------- 216.7/300.9 MB 15.2 MB/s eta 0:00:06\n",
      "   ---------------------------- ---------- 217.5/300.9 MB 15.6 MB/s eta 0:00:06\n",
      "   ---------------------------- ---------- 218.4/300.9 MB 16.4 MB/s eta 0:00:06\n",
      "   ---------------------------- ---------- 219.2/300.9 MB 16.4 MB/s eta 0:00:05\n",
      "   ---------------------------- ---------- 220.1/300.9 MB 16.8 MB/s eta 0:00:05\n",
      "   ---------------------------- ---------- 220.8/300.9 MB 17.2 MB/s eta 0:00:05\n",
      "   ---------------------------- ---------- 221.7/300.9 MB 17.2 MB/s eta 0:00:05\n",
      "   ---------------------------- ---------- 222.7/300.9 MB 17.7 MB/s eta 0:00:05\n",
      "   ---------------------------- ---------- 223.6/300.9 MB 18.2 MB/s eta 0:00:05\n",
      "   ----------------------------- --------- 224.5/300.9 MB 18.2 MB/s eta 0:00:05\n",
      "   ----------------------------- --------- 225.4/300.9 MB 18.7 MB/s eta 0:00:05\n",
      "   ----------------------------- --------- 226.3/300.9 MB 18.7 MB/s eta 0:00:04\n",
      "   ----------------------------- --------- 227.3/300.9 MB 19.3 MB/s eta 0:00:04\n",
      "   ----------------------------- --------- 228.2/300.9 MB 19.2 MB/s eta 0:00:04\n",
      "   ----------------------------- --------- 229.2/300.9 MB 19.8 MB/s eta 0:00:04\n",
      "   ----------------------------- --------- 229.9/300.9 MB 19.3 MB/s eta 0:00:04\n",
      "   ----------------------------- --------- 230.9/300.9 MB 19.9 MB/s eta 0:00:04\n",
      "   ------------------------------ -------- 231.9/300.9 MB 19.9 MB/s eta 0:00:04\n",
      "   ------------------------------ -------- 233.0/300.9 MB 20.5 MB/s eta 0:00:04\n",
      "   ------------------------------ -------- 234.0/300.9 MB 20.5 MB/s eta 0:00:04\n",
      "   ------------------------------ -------- 235.1/300.9 MB 21.1 MB/s eta 0:00:04\n",
      "   ------------------------------ -------- 236.2/300.9 MB 21.1 MB/s eta 0:00:04\n",
      "   ------------------------------ -------- 237.3/300.9 MB 21.8 MB/s eta 0:00:03\n",
      "   ------------------------------ -------- 238.3/300.9 MB 21.9 MB/s eta 0:00:03\n",
      "   ------------------------------- ------- 239.5/300.9 MB 22.6 MB/s eta 0:00:03\n",
      "   ------------------------------- ------- 240.7/300.9 MB 23.4 MB/s eta 0:00:03\n",
      "   ------------------------------- ------- 241.8/300.9 MB 23.4 MB/s eta 0:00:03\n",
      "   ------------------------------- ------- 242.9/300.9 MB 23.4 MB/s eta 0:00:03\n",
      "   ------------------------------- ------- 244.1/300.9 MB 24.2 MB/s eta 0:00:03\n",
      "   ------------------------------- ------- 245.3/300.9 MB 24.2 MB/s eta 0:00:03\n",
      "   ------------------------------- ------- 246.5/300.9 MB 24.2 MB/s eta 0:00:03\n",
      "   -------------------------------- ------ 247.7/300.9 MB 25.2 MB/s eta 0:00:03\n",
      "   -------------------------------- ------ 248.9/300.9 MB 25.2 MB/s eta 0:00:03\n",
      "   -------------------------------- ------ 250.2/300.9 MB 25.2 MB/s eta 0:00:03\n",
      "   -------------------------------- ------ 251.4/300.9 MB 26.2 MB/s eta 0:00:02\n",
      "   -------------------------------- ------ 252.7/300.9 MB 26.2 MB/s eta 0:00:02\n",
      "   -------------------------------- ------ 254.0/300.9 MB 26.2 MB/s eta 0:00:02\n",
      "   --------------------------------- ----- 255.3/300.9 MB 27.3 MB/s eta 0:00:02\n",
      "   --------------------------------- ----- 256.5/300.9 MB 27.3 MB/s eta 0:00:02\n",
      "   --------------------------------- ----- 257.7/300.9 MB 27.3 MB/s eta 0:00:02\n",
      "   --------------------------------- ----- 259.1/300.9 MB 27.3 MB/s eta 0:00:02\n",
      "   --------------------------------- ----- 260.4/300.9 MB 27.3 MB/s eta 0:00:02\n",
      "   --------------------------------- ----- 261.6/300.9 MB 27.3 MB/s eta 0:00:02\n",
      "   ---------------------------------- ---- 263.0/300.9 MB 27.3 MB/s eta 0:00:02\n",
      "   ---------------------------------- ---- 264.3/300.9 MB 27.3 MB/s eta 0:00:02\n",
      "   ---------------------------------- ---- 265.5/300.9 MB 27.3 MB/s eta 0:00:02\n",
      "   ---------------------------------- ---- 266.9/300.9 MB 27.3 MB/s eta 0:00:02\n",
      "   ---------------------------------- ---- 268.4/300.9 MB 28.5 MB/s eta 0:00:02\n",
      "   ---------------------------------- ---- 269.8/300.9 MB 28.5 MB/s eta 0:00:02\n",
      "   ----------------------------------- --- 271.2/300.9 MB 29.7 MB/s eta 0:00:01\n",
      "   ----------------------------------- --- 272.7/300.9 MB 29.7 MB/s eta 0:00:01\n",
      "   ----------------------------------- --- 274.2/300.9 MB 29.7 MB/s eta 0:00:01\n",
      "   ----------------------------------- --- 275.7/300.9 MB 31.2 MB/s eta 0:00:01\n",
      "   ----------------------------------- --- 277.2/300.9 MB 31.2 MB/s eta 0:00:01\n",
      "   ------------------------------------ -- 278.8/300.9 MB 31.1 MB/s eta 0:00:01\n",
      "   ------------------------------------ -- 280.3/300.9 MB 32.7 MB/s eta 0:00:01\n",
      "   ------------------------------------ -- 281.9/300.9 MB 36.3 MB/s eta 0:00:01\n",
      "   ------------------------------------ -- 283.5/300.9 MB 34.4 MB/s eta 0:00:01\n",
      "   ------------------------------------ -- 284.8/300.9 MB 32.8 MB/s eta 0:00:01\n",
      "   ------------------------------------- - 286.1/300.9 MB 32.8 MB/s eta 0:00:01\n",
      "   ------------------------------------- - 287.7/300.9 MB 32.8 MB/s eta 0:00:01\n",
      "   ------------------------------------- - 289.2/300.9 MB 32.8 MB/s eta 0:00:01\n",
      "   ------------------------------------- - 291.1/300.9 MB 34.4 MB/s eta 0:00:01\n",
      "   ------------------------------------- - 292.4/300.9 MB 32.7 MB/s eta 0:00:01\n",
      "   --------------------------------------  294.1/300.9 MB 34.4 MB/s eta 0:00:01\n",
      "   --------------------------------------  295.4/300.9 MB 34.4 MB/s eta 0:00:01\n",
      "   --------------------------------------  297.2/300.9 MB 34.6 MB/s eta 0:00:01\n",
      "   --------------------------------------  298.9/300.9 MB 34.4 MB/s eta 0:00:01\n",
      "   --------------------------------------  300.6/300.9 MB 34.4 MB/s eta 0:00:01\n",
      "   --------------------------------------  300.9/300.9 MB 36.4 MB/s eta 0:00:01\n",
      "   --------------------------------------  300.9/300.9 MB 36.4 MB/s eta 0:00:01\n",
      "   --------------------------------------  300.9/300.9 MB 36.4 MB/s eta 0:00:01\n",
      "   --------------------------------------  300.9/300.9 MB 36.4 MB/s eta 0:00:01\n",
      "   --------------------------------------  300.9/300.9 MB 36.4 MB/s eta 0:00:01\n",
      "   --------------------------------------  300.9/300.9 MB 36.4 MB/s eta 0:00:01\n",
      "   --------------------------------------  300.9/300.9 MB 36.4 MB/s eta 0:00:01\n",
      "   --------------------------------------  300.9/300.9 MB 36.4 MB/s eta 0:00:01\n",
      "   --------------------------------------  300.9/300.9 MB 36.4 MB/s eta 0:00:01\n",
      "   --------------------------------------  300.9/300.9 MB 36.4 MB/s eta 0:00:01\n",
      "   --------------------------------------  300.9/300.9 MB 36.4 MB/s eta 0:00:01\n",
      "   --------------------------------------  300.9/300.9 MB 36.4 MB/s eta 0:00:01\n",
      "   ---------------------------------------- 300.9/300.9 MB 6.7 MB/s eta 0:00:00\n",
      "Downloading absl_py-2.0.0-py3-none-any.whl (130 kB)\n",
      "   ---------------------------------------- 0.0/130.2 kB ? eta -:--:--\n",
      "   ---------------------------------------- 130.2/130.2 kB ? eta 0:00:00\n",
      "Downloading flatbuffers-23.5.26-py2.py3-none-any.whl (26 kB)\n",
      "Downloading grpcio-1.59.3-cp311-cp311-win_amd64.whl (3.7 MB)\n",
      "   ---------------------------------------- 0.0/3.7 MB ? eta -:--:--\n",
      "   -------------------- ------------------- 1.9/3.7 MB 59.5 MB/s eta 0:00:01\n",
      "   ----------------------------------- ---- 3.3/3.7 MB 41.3 MB/s eta 0:00:01\n",
      "   ---------------------------------------- 3.7/3.7 MB 33.3 MB/s eta 0:00:00\n",
      "Downloading h5py-3.10.0-cp311-cp311-win_amd64.whl (2.7 MB)\n",
      "   ---------------------------------------- 0.0/2.7 MB ? eta -:--:--\n",
      "   ------------------------------- -------- 2.1/2.7 MB 44.7 MB/s eta 0:00:01\n",
      "   ---------------------------------------- 2.7/2.7 MB 34.2 MB/s eta 0:00:00\n",
      "Downloading keras-2.15.0-py3-none-any.whl (1.7 MB)\n",
      "   ---------------------------------------- 0.0/1.7 MB ? eta -:--:--\n",
      "   ---------------------------------------  1.7/1.7 MB 54.8 MB/s eta 0:00:01\n",
      "   ---------------------------------------- 1.7/1.7 MB 36.2 MB/s eta 0:00:00\n",
      "Downloading libclang-16.0.6-py2.py3-none-win_amd64.whl (24.4 MB)\n",
      "   ---------------------------------------- 0.0/24.4 MB ? eta -:--:--\n",
      "   --- ------------------------------------ 2.2/24.4 MB 46.4 MB/s eta 0:00:01\n",
      "   ------ --------------------------------- 3.7/24.4 MB 39.3 MB/s eta 0:00:01\n",
      "   --------- ------------------------------ 5.5/24.4 MB 39.1 MB/s eta 0:00:01\n",
      "   ----------- ---------------------------- 7.3/24.4 MB 38.7 MB/s eta 0:00:01\n",
      "   -------------- ------------------------- 9.0/24.4 MB 38.1 MB/s eta 0:00:01\n",
      "   ----------------- ---------------------- 10.8/24.4 MB 38.6 MB/s eta 0:00:01\n",
      "   -------------------- ------------------- 12.5/24.4 MB 36.4 MB/s eta 0:00:01\n",
      "   ----------------------- ---------------- 14.2/24.4 MB 36.4 MB/s eta 0:00:01\n",
      "   ------------------------- -------------- 15.8/24.4 MB 36.4 MB/s eta 0:00:01\n",
      "   ----------------------------- ---------- 17.9/24.4 MB 38.5 MB/s eta 0:00:01\n",
      "   ------------------------------- -------- 19.2/24.4 MB 36.4 MB/s eta 0:00:01\n",
      "   ---------------------------------- ----- 20.8/24.4 MB 36.3 MB/s eta 0:00:01\n",
      "   ------------------------------------- -- 22.8/24.4 MB 36.3 MB/s eta 0:00:01\n",
      "   ---------------------------------------  24.4/24.4 MB 38.5 MB/s eta 0:00:01\n",
      "   ---------------------------------------  24.4/24.4 MB 38.5 MB/s eta 0:00:01\n",
      "   ---------------------------------------  24.4/24.4 MB 38.5 MB/s eta 0:00:01\n",
      "   ---------------------------------------- 24.4/24.4 MB 26.1 MB/s eta 0:00:00\n",
      "Downloading ml_dtypes-0.2.0-cp311-cp311-win_amd64.whl (938 kB)\n",
      "   ---------------------------------------- 0.0/938.7 kB ? eta -:--:--\n",
      "   --------------------------------------- 938.7/938.7 kB 61.9 MB/s eta 0:00:00\n",
      "Downloading tensorboard-2.15.1-py3-none-any.whl (5.5 MB)\n",
      "   ---------------------------------------- 0.0/5.5 MB ? eta -:--:--\n",
      "   ---------- ----------------------------- 1.5/5.5 MB 31.6 MB/s eta 0:00:01\n",
      "   ------------------------- -------------- 3.5/5.5 MB 37.3 MB/s eta 0:00:01\n",
      "   ------------------------------------- -- 5.2/5.5 MB 37.2 MB/s eta 0:00:01\n",
      "   ---------------------------------------- 5.5/5.5 MB 32.3 MB/s eta 0:00:00\n",
      "Downloading protobuf-4.23.4-cp310-abi3-win_amd64.whl (422 kB)\n",
      "   ---------------------------------------- 0.0/422.5 kB ? eta -:--:--\n",
      "   --------------------------------------- 422.5/422.5 kB 27.5 MB/s eta 0:00:00\n",
      "Downloading tensorflow_estimator-2.15.0-py2.py3-none-any.whl (441 kB)\n",
      "   ---------------------------------------- 0.0/442.0 kB ? eta -:--:--\n",
      "   --------------------------------------- 442.0/442.0 kB 28.8 MB/s eta 0:00:00\n",
      "Downloading wrapt-1.14.1-cp311-cp311-win_amd64.whl (35 kB)\n",
      "Downloading google_auth-2.23.4-py2.py3-none-any.whl (183 kB)\n",
      "   ---------------------------------------- 0.0/183.3 kB ? eta -:--:--\n",
      "   --------------------------------------- 183.3/183.3 kB 11.5 MB/s eta 0:00:00\n",
      "Downloading google_auth_oauthlib-1.1.0-py2.py3-none-any.whl (19 kB)\n",
      "Downloading Markdown-3.5.1-py3-none-any.whl (102 kB)\n",
      "   ---------------------------------------- 0.0/102.2 kB ? eta -:--:--\n",
      "   ---------------------------------------- 102.2/102.2 kB 6.1 MB/s eta 0:00:00\n",
      "Downloading tensorboard_data_server-0.7.2-py3-none-any.whl (2.4 kB)\n",
      "Downloading werkzeug-3.0.1-py3-none-any.whl (226 kB)\n",
      "   ---------------------------------------- 0.0/226.7 kB ? eta -:--:--\n",
      "   --------------------------------------- 226.7/226.7 kB 13.5 MB/s eta 0:00:00\n",
      "Downloading cachetools-5.3.2-py3-none-any.whl (9.3 kB)\n",
      "Installing collected packages: libclang, flatbuffers, wrapt, werkzeug, termcolor, tensorflow-io-gcs-filesystem, tensorflow-estimator, tensorboard-data-server, pyasn1, protobuf, opt-einsum, oauthlib, ml-dtypes, markdown, keras, h5py, grpcio, google-pasta, gast, cachetools, astunparse, absl-py, rsa, requests-oauthlib, pyasn1-modules, google-auth, google-auth-oauthlib, tensorboard, tensorflow-intel, tensorflow\n",
      "Successfully installed absl-py-2.0.0 astunparse-1.6.3 cachetools-5.3.2 flatbuffers-23.5.26 gast-0.5.4 google-auth-2.23.4 google-auth-oauthlib-1.1.0 google-pasta-0.2.0 grpcio-1.59.3 h5py-3.10.0 keras-2.15.0 libclang-16.0.6 markdown-3.5.1 ml-dtypes-0.2.0 oauthlib-3.2.2 opt-einsum-3.3.0 protobuf-4.23.4 pyasn1-0.5.0 pyasn1-modules-0.3.0 requests-oauthlib-1.3.1 rsa-4.9 tensorboard-2.15.1 tensorboard-data-server-0.7.2 tensorflow-2.15.0 tensorflow-estimator-2.15.0 tensorflow-intel-2.15.0 tensorflow-io-gcs-filesystem-0.31.0 termcolor-2.3.0 werkzeug-3.0.1 wrapt-1.14.1\n"
     ]
    }
   ],
   "source": [
    "#pip install tensorflow"
   ]
  },
  {
   "cell_type": "code",
   "execution_count": 62,
   "metadata": {},
   "outputs": [],
   "source": [
    "# Ejemplo univariado LSTM\n",
    "import numpy as np\n",
    "import pandas as pd\n",
    "from tensorflow.keras.models import Sequential # para construir modelos de redes neuronales de manera secuencial capa por capa.\n",
    "from tensorflow.keras.layers import LSTM\n",
    "from tensorflow.keras.layers import Dense #cada neurona está conectada a todas las neuronas de la capa anterior.\n",
    "from tensorflow.keras.layers import Flatten # Su propósito es aplanar (flatten) los datos multidimensionales de entrada en una única dimensión.\n",
    "from array import array"
   ]
  },
  {
   "cell_type": "markdown",
   "metadata": {},
   "source": [
    "# Función que servirá para la transformación de datos:"
   ]
  },
  {
   "cell_type": "code",
   "execution_count": 4,
   "metadata": {},
   "outputs": [],
   "source": [
    "# preparing independent and dependent features\n",
    "def prepare_data(timeseries_data, n_features):\n",
    "\n",
    "\tX, y =[],[]\n",
    "\tfor i in range(len(timeseries_data)):\n",
    "\t\t# find the end of this pattern\n",
    "\t\t# ej = 110,125,133 es \"x\" / end_ix= 146\n",
    "\t\tend_ix = i + n_features\n",
    "\t\t# check if we are beyond the sequence\n",
    "\t\tif end_ix > len(timeseries_data)-1:\n",
    "\t\t\tbreak\n",
    "\t\t# gather input and output parts of the pattern\n",
    "\t\tseq_x, seq_y = timeseries_data[i:end_ix], timeseries_data[end_ix]\n",
    "\t\tX.append(seq_x)\n",
    "\t\ty.append(seq_y)\n",
    "\treturn np.array(X), np.array(y)"
   ]
  },
  {
   "cell_type": "markdown",
   "metadata": {},
   "source": [
    "# 1. Recopilación y exploración de datos:\n",
    "\n",
    "Importación de serie"
   ]
  },
  {
   "cell_type": "code",
   "execution_count": 7,
   "metadata": {},
   "outputs": [],
   "source": [
    "local = 'C:/Users/Josvaldes/Documents/Maestria/Austral/2ano/analisisST/TP1/SerieT/ST-main/ST-main/Datos históricos Bitcoin 2013.csv'\n"
   ]
  },
  {
   "cell_type": "code",
   "execution_count": 11,
   "metadata": {},
   "outputs": [
    {
     "name": "stderr",
     "output_type": "stream",
     "text": [
      "C:\\Users\\Josvaldes\\AppData\\Local\\Temp\\ipykernel_23256\\1381671639.py:5: FutureWarning: The argument 'date_parser' is deprecated and will be removed in a future version. Please use 'date_format' instead, or read your data in as 'object' dtype and then call 'to_datetime'.\n",
      "  serie = pd.read_csv(local, index_col='Fecha', parse_dates=True, date_parser=date_parser)\n",
      "C:\\Users\\Josvaldes\\AppData\\Local\\Temp\\ipykernel_23256\\1381671639.py:7: FutureWarning: The argument 'date_parser' is deprecated and will be removed in a future version. Please use 'date_format' instead, or read your data in as 'object' dtype and then call 'to_datetime'.\n",
      "  serie_indice = pd.read_csv(local, parse_dates=True, date_parser=date_parser)\n"
     ]
    }
   ],
   "source": [
    "# Especifica el formato de fecha personalizado para 'Fecha' (DD.MM.YYYY)\n",
    "date_parser = lambda x: pd.to_datetime(x, format='%d.%m.%Y')\n",
    "\n",
    "# Lee el archivo CSV con el formato de fecha personalizado\n",
    "serie = pd.read_csv(local, index_col='Fecha', parse_dates=True, date_parser=date_parser)\n",
    "serie = serie.asfreq('D')\n",
    "serie_indice = pd.read_csv(local, parse_dates=True, date_parser=date_parser)"
   ]
  },
  {
   "cell_type": "code",
   "execution_count": 12,
   "metadata": {},
   "outputs": [
    {
     "data": {
      "text/html": [
       "<div>\n",
       "<style scoped>\n",
       "    .dataframe tbody tr th:only-of-type {\n",
       "        vertical-align: middle;\n",
       "    }\n",
       "\n",
       "    .dataframe tbody tr th {\n",
       "        vertical-align: top;\n",
       "    }\n",
       "\n",
       "    .dataframe thead th {\n",
       "        text-align: right;\n",
       "    }\n",
       "</style>\n",
       "<table border=\"1\" class=\"dataframe\">\n",
       "  <thead>\n",
       "    <tr style=\"text-align: right;\">\n",
       "      <th></th>\n",
       "      <th>Último</th>\n",
       "      <th>Apertura</th>\n",
       "      <th>Máximo</th>\n",
       "      <th>Mínimo</th>\n",
       "      <th>Vol.</th>\n",
       "      <th>% var.</th>\n",
       "    </tr>\n",
       "    <tr>\n",
       "      <th>Fecha</th>\n",
       "      <th></th>\n",
       "      <th></th>\n",
       "      <th></th>\n",
       "      <th></th>\n",
       "      <th></th>\n",
       "      <th></th>\n",
       "    </tr>\n",
       "  </thead>\n",
       "  <tbody>\n",
       "    <tr>\n",
       "      <th>2013-02-01</th>\n",
       "      <td>20,5</td>\n",
       "      <td>20,4</td>\n",
       "      <td>21,1</td>\n",
       "      <td>20,3</td>\n",
       "      <td>49,92K</td>\n",
       "      <td>0,44%</td>\n",
       "    </tr>\n",
       "    <tr>\n",
       "      <th>2013-02-02</th>\n",
       "      <td>19,6</td>\n",
       "      <td>20,5</td>\n",
       "      <td>20,5</td>\n",
       "      <td>18,0</td>\n",
       "      <td>80,50K</td>\n",
       "      <td>-4,24%</td>\n",
       "    </tr>\n",
       "    <tr>\n",
       "      <th>2013-02-03</th>\n",
       "      <td>20,6</td>\n",
       "      <td>19,6</td>\n",
       "      <td>20,9</td>\n",
       "      <td>19,4</td>\n",
       "      <td>34,24K</td>\n",
       "      <td>4,89%</td>\n",
       "    </tr>\n",
       "    <tr>\n",
       "      <th>2013-02-04</th>\n",
       "      <td>20,4</td>\n",
       "      <td>20,6</td>\n",
       "      <td>21,0</td>\n",
       "      <td>19,9</td>\n",
       "      <td>52,22K</td>\n",
       "      <td>-0,78%</td>\n",
       "    </tr>\n",
       "    <tr>\n",
       "      <th>2013-02-05</th>\n",
       "      <td>20,6</td>\n",
       "      <td>20,4</td>\n",
       "      <td>20,8</td>\n",
       "      <td>20,2</td>\n",
       "      <td>29,21K</td>\n",
       "      <td>0,83%</td>\n",
       "    </tr>\n",
       "  </tbody>\n",
       "</table>\n",
       "</div>"
      ],
      "text/plain": [
       "           Último Apertura Máximo Mínimo    Vol.  % var.\n",
       "Fecha                                                   \n",
       "2013-02-01   20,5     20,4   21,1   20,3  49,92K   0,44%\n",
       "2013-02-02   19,6     20,5   20,5   18,0  80,50K  -4,24%\n",
       "2013-02-03   20,6     19,6   20,9   19,4  34,24K   4,89%\n",
       "2013-02-04   20,4     20,6   21,0   19,9  52,22K  -0,78%\n",
       "2013-02-05   20,6     20,4   20,8   20,2  29,21K   0,83%"
      ]
     },
     "execution_count": 12,
     "metadata": {},
     "output_type": "execute_result"
    }
   ],
   "source": [
    "#Visualización de la serie de datos\n",
    "serie.head()"
   ]
  },
  {
   "cell_type": "code",
   "execution_count": 13,
   "metadata": {},
   "outputs": [
    {
     "data": {
      "text/plain": [
       "(3918, 6)"
      ]
     },
     "execution_count": 13,
     "metadata": {},
     "output_type": "execute_result"
    }
   ],
   "source": [
    "# dimensiones del dataset\n",
    "serie.shape\n"
   ]
  },
  {
   "cell_type": "code",
   "execution_count": 14,
   "metadata": {},
   "outputs": [],
   "source": [
    "# Se eliminan datos que no son necesarios para el analisis\n",
    "btc_ts=serie.drop(['Apertura','Máximo','Mínimo','Vol.','% var.'], axis=1)"
   ]
  },
  {
   "cell_type": "code",
   "execution_count": 15,
   "metadata": {},
   "outputs": [
    {
     "data": {
      "text/html": [
       "<div>\n",
       "<style scoped>\n",
       "    .dataframe tbody tr th:only-of-type {\n",
       "        vertical-align: middle;\n",
       "    }\n",
       "\n",
       "    .dataframe tbody tr th {\n",
       "        vertical-align: top;\n",
       "    }\n",
       "\n",
       "    .dataframe thead th {\n",
       "        text-align: right;\n",
       "    }\n",
       "</style>\n",
       "<table border=\"1\" class=\"dataframe\">\n",
       "  <thead>\n",
       "    <tr style=\"text-align: right;\">\n",
       "      <th></th>\n",
       "      <th>Último</th>\n",
       "    </tr>\n",
       "    <tr>\n",
       "      <th>Fecha</th>\n",
       "      <th></th>\n",
       "    </tr>\n",
       "  </thead>\n",
       "  <tbody>\n",
       "    <tr>\n",
       "      <th>2013-02-01</th>\n",
       "      <td>20,5</td>\n",
       "    </tr>\n",
       "    <tr>\n",
       "      <th>2013-02-02</th>\n",
       "      <td>19,6</td>\n",
       "    </tr>\n",
       "    <tr>\n",
       "      <th>2013-02-03</th>\n",
       "      <td>20,6</td>\n",
       "    </tr>\n",
       "    <tr>\n",
       "      <th>2013-02-04</th>\n",
       "      <td>20,4</td>\n",
       "    </tr>\n",
       "    <tr>\n",
       "      <th>2013-02-05</th>\n",
       "      <td>20,6</td>\n",
       "    </tr>\n",
       "  </tbody>\n",
       "</table>\n",
       "</div>"
      ],
      "text/plain": [
       "           Último\n",
       "Fecha            \n",
       "2013-02-01   20,5\n",
       "2013-02-02   19,6\n",
       "2013-02-03   20,6\n",
       "2013-02-04   20,4\n",
       "2013-02-05   20,6"
      ]
     },
     "execution_count": 15,
     "metadata": {},
     "output_type": "execute_result"
    }
   ],
   "source": [
    "btc_ts.head()"
   ]
  },
  {
   "cell_type": "code",
   "execution_count": 16,
   "metadata": {},
   "outputs": [
    {
     "name": "stdout",
     "output_type": "stream",
     "text": [
      "False\n"
     ]
    }
   ],
   "source": [
    "# Verificamos si hay nulos\n",
    "print(btc_ts.isnull().values.any())"
   ]
  },
  {
   "cell_type": "code",
   "execution_count": 18,
   "metadata": {},
   "outputs": [
    {
     "data": {
      "image/png": "[encoded data removed]",
      "text/plain": [
       "<Figure size 1600x800 with 1 Axes>"
      ]
     },
     "metadata": {},
     "output_type": "display_data"
    }
   ],
   "source": [
    "# Importacion para visualización\n",
    "from matplotlib import pyplot as plt\n",
    "\n",
    "# Convierte la columna 'Último' en cadenas\n",
    "btc_ts['Último'] = btc_ts['Último'].astype(str)\n",
    "\n",
    "# Reemplaza los puntos por nada (eliminar los puntos) y luego reemplaza las comas por puntos decimales\n",
    "btc_ts['Último'] = btc_ts['Último'].str.replace('.', '', regex=False).str.replace(',', '.', regex=False).astype(float)\n",
    "\n",
    "# Crea una serie de tiempo con la columna 'Último'\n",
    "serie_tiempo = pd.Series(btc_ts['Último'].values, index=pd.to_datetime(btc_ts.index))\n",
    "\n",
    "# Trama la serie de tiempo\n",
    "serie_tiempo.plot(figsize=(16, 8))\n",
    "plt.title('Serie de Tiempo del Precio de Bitcoin (BTC)')\n",
    "plt.xlabel('Fecha')\n",
    "plt.ylabel('Precio (USD)')\n",
    "plt.grid(True)\n",
    "plt.show()"
   ]
  },
  {
   "cell_type": "markdown",
   "metadata": {},
   "source": [
    "El grafico hace referencia al precio del Bitcoin entre el periodo de 2014 al 2023. Los procesos de precios, por lo general, tienen un comportamiento \"RANDOM WALK\" (camino aleatorio). El mismo es un proceso en el que una variable cambia de manera aleatoria en cada paso de tiempo, sin seguir un patrón predecible. Es un modelo que representa cambios impredecibles en datos a lo largo del tiempo."
   ]
  },
  {
   "cell_type": "code",
   "execution_count": 20,
   "metadata": {},
   "outputs": [],
   "source": [
    "# define input sequence\n",
    "timeseries_data = serie_tiempo\n",
    "# choose a number of time steps\n",
    "n_steps = 3\n",
    "# split into samples\n",
    "# preparo las variables dependientes e independientes.\n",
    "X, y = prepare_data(timeseries_data, n_steps)"
   ]
  },
  {
   "cell_type": "code",
   "execution_count": 21,
   "metadata": {},
   "outputs": [
    {
     "name": "stdout",
     "output_type": "stream",
     "text": [
      "[[2.05000e+02 1.96000e+02 2.06000e+02]\n",
      " [1.96000e+02 2.06000e+02 2.04000e+02]\n",
      " [2.06000e+02 2.04000e+02 2.06000e+02]\n",
      " ...\n",
      " [2.87230e+05 2.96745e+05 2.99129e+05]\n",
      " [2.96745e+05 2.99129e+05 2.99842e+05]\n",
      " [2.99129e+05 2.99842e+05 3.30418e+05]]\n"
     ]
    }
   ],
   "source": [
    "print(X)"
   ]
  },
  {
   "cell_type": "code",
   "execution_count": 22,
   "metadata": {},
   "outputs": [
    {
     "data": {
      "text/plain": [
       "(3915, 3)"
      ]
     },
     "execution_count": 22,
     "metadata": {},
     "output_type": "execute_result"
    }
   ],
   "source": [
    "X.shape"
   ]
  },
  {
   "cell_type": "code",
   "execution_count": 23,
   "metadata": {},
   "outputs": [],
   "source": [
    "# reshape from [samples, timesteps] into [samples, timesteps, features]\n",
    "n_features = 1  # para convertir X en una variable de 3 dimensiones.Este valor indica el número de características en la entrada,\n",
    "X = X.reshape((X.shape[0], X.shape[1], n_features))"
   ]
  },
  {
   "cell_type": "code",
   "execution_count": 24,
   "metadata": {},
   "outputs": [
    {
     "data": {
      "text/plain": [
       "array([[[2.05000e+02],\n",
       "        [1.96000e+02],\n",
       "        [2.06000e+02]],\n",
       "\n",
       "       [[1.96000e+02],\n",
       "        [2.06000e+02],\n",
       "        [2.04000e+02]],\n",
       "\n",
       "       [[2.06000e+02],\n",
       "        [2.04000e+02],\n",
       "        [2.06000e+02]],\n",
       "\n",
       "       ...,\n",
       "\n",
       "       [[2.87230e+05],\n",
       "        [2.96745e+05],\n",
       "        [2.99129e+05]],\n",
       "\n",
       "       [[2.96745e+05],\n",
       "        [2.99129e+05],\n",
       "        [2.99842e+05]],\n",
       "\n",
       "       [[2.99129e+05],\n",
       "        [2.99842e+05],\n",
       "        [3.30418e+05]]])"
      ]
     },
     "execution_count": 24,
     "metadata": {},
     "output_type": "execute_result"
    }
   ],
   "source": [
    "X"
   ]
  },
  {
   "cell_type": "code",
   "execution_count": 25,
   "metadata": {},
   "outputs": [
    {
     "data": {
      "text/plain": [
       "(3915, 3, 1)"
      ]
     },
     "execution_count": 25,
     "metadata": {},
     "output_type": "execute_result"
    }
   ],
   "source": [
    "X.shape"
   ]
  },
  {
   "cell_type": "markdown",
   "metadata": {},
   "source": [
    "# 2. Construcción del modelo LSTM"
   ]
  },
  {
   "cell_type": "code",
   "execution_count": 26,
   "metadata": {},
   "outputs": [
    {
     "name": "stdout",
     "output_type": "stream",
     "text": [
      "WARNING:tensorflow:From c:\\Users\\Josvaldes\\AppData\\Local\\Programs\\Python\\Python311\\Lib\\site-packages\\keras\\src\\backend.py:873: The name tf.get_default_graph is deprecated. Please use tf.compat.v1.get_default_graph instead.\n",
      "\n",
      "WARNING:tensorflow:From c:\\Users\\Josvaldes\\AppData\\Local\\Programs\\Python\\Python311\\Lib\\site-packages\\keras\\src\\optimizers\\__init__.py:309: The name tf.train.Optimizer is deprecated. Please use tf.compat.v1.train.Optimizer instead.\n",
      "\n",
      "Epoch 1/50\n",
      "WARNING:tensorflow:From c:\\Users\\Josvaldes\\AppData\\Local\\Programs\\Python\\Python311\\Lib\\site-packages\\keras\\src\\utils\\tf_utils.py:492: The name tf.ragged.RaggedTensorValue is deprecated. Please use tf.compat.v1.ragged.RaggedTensorValue instead.\n",
      "\n",
      "123/123 [==============================] - 2s 2ms/step - loss: 15363281920.0000\n",
      "Epoch 2/50\n",
      "123/123 [==============================] - 0s 2ms/step - loss: 94833168.0000\n",
      "Epoch 3/50\n",
      "123/123 [==============================] - 0s 2ms/step - loss: 93096848.0000\n",
      "Epoch 4/50\n",
      "123/123 [==============================] - 0s 2ms/step - loss: 92786008.0000\n",
      "Epoch 5/50\n",
      "123/123 [==============================] - 0s 2ms/step - loss: 95280208.0000\n",
      "Epoch 6/50\n",
      "123/123 [==============================] - 0s 2ms/step - loss: 90745680.0000\n",
      "Epoch 7/50\n",
      "123/123 [==============================] - 0s 2ms/step - loss: 89860344.0000\n",
      "Epoch 8/50\n",
      "123/123 [==============================] - 0s 2ms/step - loss: 88765224.0000\n",
      "Epoch 9/50\n",
      "123/123 [==============================] - 0s 2ms/step - loss: 90402512.0000\n",
      "Epoch 10/50\n",
      "123/123 [==============================] - 0s 2ms/step - loss: 88185584.0000\n",
      "Epoch 11/50\n",
      "123/123 [==============================] - 0s 2ms/step - loss: 88704080.0000\n",
      "Epoch 12/50\n",
      "123/123 [==============================] - 0s 2ms/step - loss: 88248616.0000\n",
      "Epoch 13/50\n",
      "123/123 [==============================] - 0s 2ms/step - loss: 87569880.0000\n",
      "Epoch 14/50\n",
      "123/123 [==============================] - 0s 2ms/step - loss: 85803336.0000\n",
      "Epoch 15/50\n",
      "123/123 [==============================] - 0s 2ms/step - loss: 85631800.0000\n",
      "Epoch 16/50\n",
      "123/123 [==============================] - 0s 2ms/step - loss: 85509392.0000\n",
      "Epoch 17/50\n",
      "123/123 [==============================] - 0s 2ms/step - loss: 85731792.0000\n",
      "Epoch 18/50\n",
      "123/123 [==============================] - 0s 2ms/step - loss: 83276640.0000\n",
      "Epoch 19/50\n",
      "123/123 [==============================] - 0s 2ms/step - loss: 81844592.0000\n",
      "Epoch 20/50\n",
      "123/123 [==============================] - 0s 2ms/step - loss: 84857632.0000\n",
      "Epoch 21/50\n",
      "123/123 [==============================] - 0s 2ms/step - loss: 81828496.0000\n",
      "Epoch 22/50\n",
      "123/123 [==============================] - 0s 2ms/step - loss: 83261256.0000\n",
      "Epoch 23/50\n",
      "123/123 [==============================] - 0s 2ms/step - loss: 80857776.0000\n",
      "Epoch 24/50\n",
      "123/123 [==============================] - 0s 2ms/step - loss: 116771776.0000\n",
      "Epoch 25/50\n",
      "123/123 [==============================] - 0s 2ms/step - loss: 77932096.0000\n",
      "Epoch 26/50\n",
      "123/123 [==============================] - 0s 2ms/step - loss: 78515424.0000\n",
      "Epoch 27/50\n",
      "123/123 [==============================] - 0s 2ms/step - loss: 78143776.0000\n",
      "Epoch 28/50\n",
      "123/123 [==============================] - 0s 2ms/step - loss: 77956008.0000\n",
      "Epoch 29/50\n",
      "123/123 [==============================] - 0s 2ms/step - loss: 79541664.0000\n",
      "Epoch 30/50\n",
      "123/123 [==============================] - 0s 2ms/step - loss: 76380384.0000\n",
      "Epoch 31/50\n",
      "123/123 [==============================] - 0s 2ms/step - loss: 75481848.0000\n",
      "Epoch 32/50\n",
      "123/123 [==============================] - 0s 2ms/step - loss: 77060128.0000\n",
      "Epoch 33/50\n",
      "123/123 [==============================] - 0s 2ms/step - loss: 73602416.0000\n",
      "Epoch 34/50\n",
      "123/123 [==============================] - 0s 2ms/step - loss: 83481824.0000\n",
      "Epoch 35/50\n",
      "123/123 [==============================] - 0s 2ms/step - loss: 82081968.0000\n",
      "Epoch 36/50\n",
      "123/123 [==============================] - 0s 2ms/step - loss: 73299416.0000\n",
      "Epoch 37/50\n",
      "123/123 [==============================] - 0s 2ms/step - loss: 72455192.0000\n",
      "Epoch 38/50\n",
      "123/123 [==============================] - 0s 2ms/step - loss: 73112032.0000\n",
      "Epoch 39/50\n",
      "123/123 [==============================] - 0s 2ms/step - loss: 71805896.0000\n",
      "Epoch 40/50\n",
      "123/123 [==============================] - 0s 2ms/step - loss: 72146488.0000\n",
      "Epoch 41/50\n",
      "123/123 [==============================] - 0s 2ms/step - loss: 70372712.0000\n",
      "Epoch 42/50\n",
      "123/123 [==============================] - 0s 2ms/step - loss: 70228360.0000\n",
      "Epoch 43/50\n",
      "123/123 [==============================] - 0s 2ms/step - loss: 70949696.0000\n",
      "Epoch 44/50\n",
      "123/123 [==============================] - 0s 2ms/step - loss: 70099544.0000\n",
      "Epoch 45/50\n",
      "123/123 [==============================] - 0s 2ms/step - loss: 69918480.0000\n",
      "Epoch 46/50\n",
      "123/123 [==============================] - 0s 2ms/step - loss: 68594496.0000\n",
      "Epoch 47/50\n",
      "123/123 [==============================] - 0s 2ms/step - loss: 68472432.0000\n",
      "Epoch 48/50\n",
      "123/123 [==============================] - 0s 2ms/step - loss: 68469240.0000\n",
      "Epoch 49/50\n",
      "123/123 [==============================] - 0s 2ms/step - loss: 67348248.0000\n",
      "Epoch 50/50\n",
      "123/123 [==============================] - 0s 2ms/step - loss: 66506472.0000\n"
     ]
    },
    {
     "data": {
      "text/plain": [
       "<keras.src.callbacks.History at 0x23b499c80d0>"
      ]
     },
     "execution_count": 26,
     "metadata": {},
     "output_type": "execute_result"
    }
   ],
   "source": [
    "model = Sequential()\n",
    "model.add(LSTM(50, activation='relu', input_shape=(n_steps, n_features)))     # return_sequences=True, input_shape=(n_steps, n_features)))\n",
    "# model.add(LSTM(50, activation='relu')) - Rectified Linear Unit (o unidad lineal rectificada)\n",
    "model.add(Dense(1))  # output node\n",
    "model.compile(optimizer='Nadam', loss='mse') #Indica el algoritmo de descenso de gradiente que vamos a usar junto con la tasa de aprendizaje o learning_rate\n",
    "\n",
    "# fit model\n",
    "model.fit(X, y, epochs=50, verbose=1) # Epoch. Este es el numero de veces que se ejecutaran los algoritmos"
   ]
  },
  {
   "cell_type": "markdown",
   "metadata": {},
   "source": [
    "# 3. Predicción: horizonte temporal de 10 días:"
   ]
  },
  {
   "cell_type": "code",
   "execution_count": 34,
   "metadata": {},
   "outputs": [
    {
     "name": "stdout",
     "output_type": "stream",
     "text": [
      "[313111.78]\n",
      "1 day input [299842.      330418.      313111.78125]\n",
      "1 day output [[320271.34]]\n",
      "2 day input [330418.      313111.78125 320271.34375]\n",
      "2 day output [[315437.88]]\n",
      "3 day input [313111.78 320271.34 315437.88]\n",
      "3 day output [[316473.8]]\n",
      "4 day input [320271.34 315437.88 316473.8 ]\n",
      "4 day output [[314643.3]]\n",
      "5 day input [315437.88 316473.8  314643.3 ]\n",
      "5 day output [[314218.22]]\n",
      "6 day input [316473.8  314643.3  314218.22]\n",
      "6 day output [[313109.6]]\n",
      "7 day input [314643.3  314218.22 313109.6 ]\n",
      "7 day output [[312338.94]]\n",
      "8 day input [314218.22 313109.6  312338.94]\n",
      "8 day output [[311406.66]]\n",
      "9 day input [313109.6  312338.94 311406.66]\n",
      "9 day output [[310557.16]]\n",
      "[313111.78, 320271.34, 315437.88, 316473.8, 314643.3, 314218.22, 313109.6, 312338.94, 311406.66, 310557.16]\n"
     ]
    }
   ],
   "source": [
    "# Output para un horizonte temporal de 10 dias\n",
    "\n",
    "import numpy as np\n",
    "\n",
    "x_input = np.array([299129, 299842, 330418])\n",
    "temp_input=list(x_input)\n",
    "lst_output=[]\n",
    "i=0\n",
    "while(i<10):\n",
    "\n",
    "    if(len(temp_input)>3):\n",
    "        x_input=np.array(temp_input[1:])\n",
    "        print(\"{} day input {}\".format(i,x_input))\n",
    "        #print(x_input)\n",
    "        x_input = x_input.reshape((1, n_steps, n_features))\n",
    "        #print(x_input)\n",
    "        yhat = model.predict(x_input, verbose=0)\n",
    "        print(\"{} day output {}\".format(i,yhat))\n",
    "        temp_input.append(yhat[0][0])\n",
    "        temp_input=temp_input[1:]\n",
    "        #print(temp_input)\n",
    "        lst_output.append(yhat[0][0])\n",
    "        i=i+1\n",
    "    else:\n",
    "        x_input = x_input.reshape((1, n_steps, n_features))\n",
    "        yhat = model.predict(x_input, verbose=0)\n",
    "        print(yhat[0])\n",
    "        temp_input.append(yhat[0][0])\n",
    "        lst_output.append(yhat[0][0])\n",
    "        i=i+1\n",
    "\n",
    "\n",
    "print(lst_output)"
   ]
  },
  {
   "cell_type": "code",
   "execution_count": 35,
   "metadata": {},
   "outputs": [
    {
     "data": {
      "text/plain": [
       "Fecha\n",
       "2013-02-01       205.0\n",
       "2013-02-02       196.0\n",
       "2013-02-03       206.0\n",
       "2013-02-04       204.0\n",
       "2013-02-05       206.0\n",
       "                ...   \n",
       "2023-10-20    296745.0\n",
       "2023-10-21    299129.0\n",
       "2023-10-22    299842.0\n",
       "2023-10-23    330418.0\n",
       "2023-10-24    341061.0\n",
       "Freq: D, Length: 3918, dtype: float64"
      ]
     },
     "execution_count": 35,
     "metadata": {},
     "output_type": "execute_result"
    }
   ],
   "source": [
    "timeseries_data"
   ]
  },
  {
   "cell_type": "code",
   "execution_count": 36,
   "metadata": {},
   "outputs": [
    {
     "data": {
      "text/plain": [
       "3918"
      ]
     },
     "execution_count": 36,
     "metadata": {},
     "output_type": "execute_result"
    }
   ],
   "source": [
    "len(timeseries_data)"
   ]
  },
  {
   "cell_type": "markdown",
   "metadata": {},
   "source": [
    "# 4. Vizualizamos el output"
   ]
  },
  {
   "cell_type": "code",
   "execution_count": 37,
   "metadata": {},
   "outputs": [
    {
     "data": {
      "text/plain": [
       "[<matplotlib.lines.Line2D at 0x23b4f029a90>]"
      ]
     },
     "execution_count": 37,
     "metadata": {},
     "output_type": "execute_result"
    },
    {
     "data": {
      "image/png": "[encoded data removed]",
      "text/plain": [
       "<Figure size 640x480 with 1 Axes>"
      ]
     },
     "metadata": {},
     "output_type": "display_data"
    }
   ],
   "source": [
    "import matplotlib.pyplot as plt\n",
    "day_new=np.arange(1,10)\n",
    "day_pred=np.arange(10,20)\n",
    "\n",
    "plt.plot(day_new,timeseries_data[:9])\n",
    "plt.plot(day_pred,lst_output)"
   ]
  },
  {
   "cell_type": "code",
   "execution_count": 38,
   "metadata": {},
   "outputs": [
    {
     "name": "stdout",
     "output_type": "stream",
     "text": [
      "Fecha\n",
      "86400.0    3917\n",
      "Name: count, dtype: int64\n"
     ]
    }
   ],
   "source": [
    "df_time_diffs = serie_tiempo.index.to_series().diff().dt.total_seconds() #total_seconds es una función de pandas que retorna la duración total de cada elemento expresada en segundos.\n",
    "print(df_time_diffs.value_counts())"
   ]
  },
  {
   "cell_type": "markdown",
   "metadata": {},
   "source": [
    "Todos los datos estan con una diferencia de 24 horas."
   ]
  },
  {
   "cell_type": "code",
   "execution_count": 40,
   "metadata": {},
   "outputs": [
    {
     "name": "stdout",
     "output_type": "stream",
     "text": [
      "<class 'pandas.core.series.Series'>\n",
      "DatetimeIndex: 3918 entries, 2013-02-01 to 2023-10-24\n",
      "Freq: D\n",
      "Series name: None\n",
      "Non-Null Count  Dtype  \n",
      "--------------  -----  \n",
      "3918 non-null   float64\n",
      "dtypes: float64(1)\n",
      "memory usage: 61.2 KB\n"
     ]
    }
   ],
   "source": [
    "serie_tiempo.info()"
   ]
  },
  {
   "cell_type": "code",
   "execution_count": 39,
   "metadata": {},
   "outputs": [
    {
     "data": {
      "text/plain": [
       "(3918,)"
      ]
     },
     "execution_count": 39,
     "metadata": {},
     "output_type": "execute_result"
    }
   ],
   "source": [
    "serie_tiempo.shape\n"
   ]
  },
  {
   "cell_type": "markdown",
   "metadata": {},
   "source": [
    "# 5. Modelo univariado-unistep"
   ]
  },
  {
   "cell_type": "code",
   "execution_count": 43,
   "metadata": {},
   "outputs": [],
   "source": [
    "#Función para división de la serie\n",
    "def train_val_test_split(serie, tr_size=0.8, vl_size=0.1, ts_size=0.1 ):\n",
    "    # Definir número de datos en cada subserie\n",
    "    N = serie.shape[0]\n",
    "    Ntrain = int(tr_size*N)  # Número de datos de entrenamiento\n",
    "    Nval = int(vl_size*N)    # Número de datos de validación\n",
    "    Ntst = N - Ntrain - Nval # Número de datos de prueba\n",
    "\n",
    "    # Realizar partición\n",
    "    train = serie[0:Ntrain]\n",
    "    val = serie[Ntrain:Ntrain+Nval]\n",
    "    test = serie[Ntrain+Nval:]\n",
    "\n",
    "    return train, val, test"
   ]
  },
  {
   "cell_type": "code",
   "execution_count": 46,
   "metadata": {},
   "outputs": [
    {
     "name": "stdout",
     "output_type": "stream",
     "text": [
      "Tamaño set de entrenamiento: (3134,)\n",
      "Tamaño set de validación: (391,)\n",
      "Tamaño set de prueba: (393,)\n"
     ]
    }
   ],
   "source": [
    "tr, vl, ts = train_val_test_split(serie_tiempo)\n",
    "\n",
    "# Imprimir en pantalla el tamaño de cada subset\n",
    "print(f'Tamaño set de entrenamiento: {tr.shape}')\n",
    "print(f'Tamaño set de validación: {vl.shape}')\n",
    "print(f'Tamaño set de prueba: {ts.shape}')"
   ]
  },
  {
   "cell_type": "code",
   "execution_count": 48,
   "metadata": {},
   "outputs": [
    {
     "data": {
      "text/plain": [
       "<matplotlib.legend.Legend at 0x23b50408250>"
      ]
     },
     "execution_count": 48,
     "metadata": {},
     "output_type": "execute_result"
    },
    {
     "data": {
      "image/png": "[encoded data removed]",
      "text/plain": [
       "<Figure size 1600x500 with 1 Axes>"
      ]
     },
     "metadata": {},
     "output_type": "display_data"
    }
   ],
   "source": [
    "# Grafica de la división de la serie\n",
    "fig, ax = plt.subplots(figsize=(16,5))\n",
    "ax.plot(tr,label=\"train\")\n",
    "ax.plot(vl,label=\"val\")\n",
    "ax.plot(ts,label=\"test\")\n",
    "plt.legend()"
   ]
  },
  {
   "cell_type": "markdown",
   "metadata": {},
   "source": [
    "# 5.1. Adecuación para una red LSTM: Dataset supervisado"
   ]
  },
  {
   "cell_type": "code",
   "execution_count": 50,
   "metadata": {},
   "outputs": [],
   "source": [
    "# Función para el pre procesamiento de los datos en las divisiones realizadas\n",
    "def crear_dataset_supervisado(array, input_length, output_length):\n",
    "\n",
    "    # Inicialización\n",
    "    X, Y = [], []    # Listados que contendrán los datos de entrada y salida del modelo\n",
    "    shape = array.shape\n",
    "    if len(shape)==1: # Si tenemos sólo una serie (univariado)\n",
    "        fils, cols = array.shape[0], 1\n",
    "        array = array.reshape(fils,cols)\n",
    "    else: # Multivariado\n",
    "        fils, cols = array.shape\n",
    "\n",
    "    # Generar los arreglos (utilizando ventanas deslizantes de longitud input_length)\n",
    "    for i in range(fils-input_length-output_length):\n",
    "        X.append(array[i:i+INPUT_LENGTH,0:cols])\n",
    "        Y.append(array[i+input_length:i+input_length+output_length,-1].reshape(output_length,1))\n",
    "\n",
    "    # Convertir listas a arreglos de NumPy\n",
    "    X = np.array(X)\n",
    "    Y = np.array(Y)\n",
    "\n",
    "    return X, Y"
   ]
  },
  {
   "cell_type": "code",
   "execution_count": 51,
   "metadata": {},
   "outputs": [],
   "source": [
    "# Definición de los hiperparámetros INPUT_LENGTH y OUTPUT_LENGTH\n",
    "INPUT_LENGTH = 24    # Registros de 240 min consecutivos a la entrada\n",
    "OUTPUT_LENGTH = 1    # El modelo va a predecir 10 min a futuro\n",
    "\n",
    "# Datasets supervisados para entrenamiento (x_tr, y_tr), validación\n",
    "# (x_vl, y_vl) y prueba (x_ts, y_ts)\n",
    "x_tr, y_tr = crear_dataset_supervisado(tr.values, INPUT_LENGTH, OUTPUT_LENGTH)\n",
    "x_vl, y_vl = crear_dataset_supervisado(vl.values, INPUT_LENGTH, OUTPUT_LENGTH)\n",
    "x_ts, y_ts = crear_dataset_supervisado(ts.values, INPUT_LENGTH, OUTPUT_LENGTH)"
   ]
  },
  {
   "cell_type": "code",
   "execution_count": 52,
   "metadata": {},
   "outputs": [
    {
     "name": "stdout",
     "output_type": "stream",
     "text": [
      "Tamaños entrada (BATCHES x INPUT_LENGTH x FEATURES) y de salida (BATCHES x OUTPUT_LENGTH x FEATURES)\n",
      "Set de entrenamiento - x_tr: (3109, 24, 1), y_tr: (3109, 1, 1)\n",
      "Set de validación - x_vl: (366, 24, 1), y_vl: (366, 1, 1)\n",
      "Set de prueba - x_ts: (368, 24, 1), y_ts: (368, 1, 1)\n"
     ]
    }
   ],
   "source": [
    "# Visualización\n",
    "print('Tamaños entrada (BATCHES x INPUT_LENGTH x FEATURES) y de salida (BATCHES x OUTPUT_LENGTH x FEATURES)')\n",
    "print(f'Set de entrenamiento - x_tr: {x_tr.shape}, y_tr: {y_tr.shape}')\n",
    "print(f'Set de validación - x_vl: {x_vl.shape}, y_vl: {y_vl.shape}')\n",
    "print(f'Set de prueba - x_ts: {x_ts.shape}, y_ts: {y_ts.shape}')"
   ]
  },
  {
   "cell_type": "markdown",
   "metadata": {},
   "source": [
    "# 5.2. Escalamiento de los datos"
   ]
  },
  {
   "cell_type": "code",
   "execution_count": 56,
   "metadata": {},
   "outputs": [],
   "source": [
    "# Función de escalamiento de datos\n",
    "from sklearn.preprocessing import MinMaxScaler\n",
    "\n",
    "\n",
    "def escalar_dataset(data_input):\n",
    "    NFEATS = data_input['x_tr'].shape[2]\n",
    "\n",
    "    # Generar listado con \"scalers\"\n",
    "    scalers = [MinMaxScaler(feature_range=(-1,1)) for i in range(NFEATS)]\n",
    "\n",
    "    # Arreglos que contendrán los datasets escalados (Se crean arreglos vacíos con las mismas dimensiones que los conjuntos de datos originales para almacenar los datos escalados)\n",
    "    x_tr_s = np.zeros(data_input['x_tr'].shape)\n",
    "    x_vl_s = np.zeros(data_input['x_vl'].shape)\n",
    "    x_ts_s = np.zeros(data_input['x_ts'].shape)\n",
    "    y_tr_s = np.zeros(data_input['y_tr'].shape)\n",
    "    y_vl_s = np.zeros(data_input['y_vl'].shape)\n",
    "    y_ts_s = np.zeros(data_input['y_ts'].shape)\n",
    "\n",
    "    # Escalamiento: se usarán los min/max del set de entrenamiento para\n",
    "    # escalar la totalidad de los datasets\n",
    "\n",
    "    # Escalamiento Xs (aca es una sola feature, pero en un multivariado ya nos quedará a estructura)\n",
    "    for i in range(NFEATS):\n",
    "        x_tr_s[:,:,i] = scalers[i].fit_transform(x_tr[:,:,i]) #ajustamos a los datos de entrenamiento\n",
    "        x_vl_s[:,:,i] = scalers[i].transform(x_vl[:,:,i]) #transformamos con el ajuste a val y a test tomando el rango del set de entrenamiento\n",
    "        x_ts_s[:,:,i] = scalers[i].transform(x_ts[:,:,i])\n",
    "\n",
    "    # Escalamiento Ys (Se asume que las etiquetas se encuentran en la última columna de los conjuntos de datos...ademas, en este caso es una sola columna)\n",
    "    y_tr_s[:,:,0] = scalers[-1].fit_transform(y_tr[:,:,0])\n",
    "    y_vl_s[:,:,0] = scalers[-1].transform(y_vl[:,:,0])\n",
    "    y_ts_s[:,:,0] = scalers[-1].transform(y_ts[:,:,0])\n",
    "\n",
    "    # Conformar ` de salida\n",
    "    data_scaled = {\n",
    "        'x_tr_s': x_tr_s, 'y_tr_s': y_tr_s,\n",
    "        'x_vl_s': x_vl_s, 'y_vl_s': y_vl_s,\n",
    "        'x_ts_s': x_ts_s, 'y_ts_s': y_ts_s,\n",
    "    }\n",
    "\n",
    "    return data_scaled, scalers[0] #útil para realizar la inversión de escalamiento"
   ]
  },
  {
   "cell_type": "code",
   "execution_count": 57,
   "metadata": {},
   "outputs": [],
   "source": [
    "data_in = {\n",
    "    'x_tr': x_tr, 'y_tr': y_tr,\n",
    "    'x_vl': x_vl, 'y_vl': y_vl,\n",
    "    'x_ts': x_ts, 'y_ts': y_ts,\n",
    "}"
   ]
  },
  {
   "cell_type": "code",
   "execution_count": 58,
   "metadata": {},
   "outputs": [],
   "source": [
    "data_s, scaler = escalar_dataset(data_in)"
   ]
  },
  {
   "cell_type": "code",
   "execution_count": 59,
   "metadata": {},
   "outputs": [],
   "source": [
    "x_tr_s, y_tr_s = data_s['x_tr_s'], data_s['y_tr_s']\n",
    "x_vl_s, y_vl_s = data_s['x_vl_s'], data_s['y_vl_s']\n",
    "x_ts_s, y_ts_s = data_s['x_ts_s'], data_s['y_ts_s']"
   ]
  },
  {
   "cell_type": "code",
   "execution_count": 60,
   "metadata": {},
   "outputs": [
    {
     "name": "stdout",
     "output_type": "stream",
     "text": [
      "Min x_tr/x_vl/x_ts sin escalamiento:  196.0/184890.0/157762.0\n",
      "Min x_tr/x_vl/x_ts con escalamiento:  -1.0/-0.4187117192297397/-0.5041394404118972\n",
      "Min y_tr/y_vl/y_ts sin escalamiento:  304.0/184890.0/157762.0\n",
      "Min y_tr/y_vl/y_ts con escalamiento:  -1.0/-0.4187228883412979/-0.5041512820714684\n",
      "Max x_tr/x_vl/x_ts sin escalamiento:  635409.0/675279.0/314661.0\n",
      "Max x_tr/x_vl/x_ts con escalamiento:  1.0000000000000002/1.1255530538017038/-0.009891170363327095\n",
      "Max y_tr/y_vl/y_ts sin escalamiento:  635409.0/675279.0/330418.0\n",
      "Max y_tr/y_vl/y_ts con escalamiento:  1.0000000000000002/1.125554042244983/0.03955723856685123\n"
     ]
    }
   ],
   "source": [
    "# Validación de los datos escalados\n",
    "print(f'Min x_tr/x_vl/x_ts sin escalamiento:  {x_tr.min()}/{x_vl.min()}/{x_ts.min()}')\n",
    "print(f'Min x_tr/x_vl/x_ts con escalamiento:  {x_tr_s.min()}/{x_vl_s.min()}/{x_ts_s.min()}')\n",
    "\n",
    "print(f'Min y_tr/y_vl/y_ts sin escalamiento:  {y_tr.min()}/{y_vl.min()}/{y_ts.min()}')\n",
    "print(f'Min y_tr/y_vl/y_ts con escalamiento:  {y_tr_s.min()}/{y_vl_s.min()}/{y_ts_s.min()}')\n",
    "\n",
    "print(f'Max x_tr/x_vl/x_ts sin escalamiento:  {x_tr.max()}/{x_vl.max()}/{x_ts.max()}')\n",
    "print(f'Max x_tr/x_vl/x_ts con escalamiento:  {x_tr_s.max()}/{x_vl_s.max()}/{x_ts_s.max()}')\n",
    "\n",
    "print(f'Max y_tr/y_vl/y_ts sin escalamiento:  {y_tr.max()}/{y_vl.max()}/{y_ts.max()}')\n",
    "print(f'Max y_tr/y_vl/y_ts con escalamiento:  {y_tr_s.max()}/{y_vl_s.max()}/{y_ts_s.max()}')\n"
   ]
  },
  {
   "cell_type": "markdown",
   "metadata": {},
   "source": [
    "# 5.3. Creación y entrenamiento de la Red LSTM"
   ]
  },
  {
   "cell_type": "code",
   "execution_count": 69,
   "metadata": {},
   "outputs": [],
   "source": [
    "import tensorflow as tf\n",
    "\n",
    "tf.random.set_seed(123) #para garantizar la reproducibidad del entrenamiento\n",
    "\n",
    "N_UNITS = 128 #número de unidades del modelo (que corresponde al tamaño del estado oculto y a la celda de memoria de la Red LSTM.\n",
    "#hiperparámetro del modelo a afinar\n",
    "\n",
    "INPUT_SHAPE = (x_tr_s.shape[1], x_tr_s.shape[2]) #cada uno de los datos de entrada será un arreglo de tamaño 24 (xxx minutos de entrada) x 1 (feature).\n",
    "\n",
    "modelo2 = Sequential() #caja vacía a la cual se le adicionaran de manera secuencial los elementos\n",
    "modelo2.add(LSTM(N_UNITS, input_shape=INPUT_SHAPE))\n",
    "modelo2.add(Dense(OUTPUT_LENGTH, activation='linear'))"
   ]
  },
  {
   "cell_type": "markdown",
   "metadata": {},
   "source": [
    "# 5.4. Compilación del modelo"
   ]
  },
  {
   "cell_type": "code",
   "execution_count": 70,
   "metadata": {},
   "outputs": [],
   "source": [
    "def root_mean_squared_error(y_true, y_pred):\n",
    "    rmse = tf.math.sqrt(tf.math.reduce_mean(tf.square(y_pred-y_true)))\n",
    "    return rmse"
   ]
  },
  {
   "cell_type": "code",
   "execution_count": 71,
   "metadata": {},
   "outputs": [],
   "source": [
    "from tensorflow.keras.optimizers import RMSprop\n",
    "\n",
    "optimizador = RMSprop(learning_rate=5e-5)"
   ]
  },
  {
   "cell_type": "code",
   "execution_count": 72,
   "metadata": {},
   "outputs": [],
   "source": [
    "modelo2.compile(\n",
    "    optimizer = optimizador,\n",
    "    loss = root_mean_squared_error,\n",
    ")"
   ]
  },
  {
   "cell_type": "markdown",
   "metadata": {},
   "source": [
    "# 5.5. Entrenamiento del modelo"
   ]
  },
  {
   "cell_type": "code",
   "execution_count": 73,
   "metadata": {},
   "outputs": [],
   "source": [
    "EPOCHS = 80 #iteraciones de entrenamiento\n",
    "BATCH_SIZE = 256 #tamaño del lote (es decir, 256 datos de entrenamiento en cada iteración)"
   ]
  },
  {
   "cell_type": "code",
   "execution_count": 75,
   "metadata": {},
   "outputs": [
    {
     "name": "stdout",
     "output_type": "stream",
     "text": [
      "Epoch 1/80\n",
      "13/13 - 3s - loss: 0.8688 - val_loss: 0.4495 - 3s/epoch - 195ms/step\n",
      "Epoch 2/80\n",
      "13/13 - 1s - loss: 0.7635 - val_loss: 0.4134 - 604ms/epoch - 46ms/step\n",
      "Epoch 3/80\n",
      "13/13 - 1s - loss: 0.6684 - val_loss: 0.3770 - 609ms/epoch - 47ms/step\n",
      "Epoch 4/80\n",
      "13/13 - 1s - loss: 0.5657 - val_loss: 0.3384 - 609ms/epoch - 47ms/step\n",
      "Epoch 5/80\n",
      "13/13 - 1s - loss: 0.4491 - val_loss: 0.2968 - 926ms/epoch - 71ms/step\n",
      "Epoch 6/80\n",
      "13/13 - 1s - loss: 0.3118 - val_loss: 0.2538 - 898ms/epoch - 69ms/step\n",
      "Epoch 7/80\n",
      "13/13 - 1s - loss: 0.1597 - val_loss: 0.2264 - 698ms/epoch - 54ms/step\n",
      "Epoch 8/80\n",
      "13/13 - 1s - loss: 0.0906 - val_loss: 0.2120 - 1s/epoch - 79ms/step\n",
      "Epoch 9/80\n"
     ]
    }
   ],
   "source": [
    "historia = modelo2.fit(\n",
    "    x = x_tr_s,\n",
    "    y = y_tr_s,\n",
    "    batch_size = BATCH_SIZE,\n",
    "    epochs = EPOCHS,\n",
    "    validation_data = (x_vl_s, y_vl_s),\n",
    "    verbose=2 #vemos como evoluciona el entrenamiento\n",
    ")"
   ]
  }
 ],
 "metadata": {
  "kernelspec": {
   "display_name": "Python 3",
   "language": "python",
   "name": "python3"
  },
  "language_info": {
   "codemirror_mode": {
    "name": "ipython",
    "version": 3
   },
   "file_extension": ".py",
   "mimetype": "text/x-python",
   "name": "python",
   "nbconvert_exporter": "python",
   "pygments_lexer": "ipython3",
   "version": "3.11.4"
  }
 },
 "nbformat": 4,
 "nbformat_minor": 2
}
